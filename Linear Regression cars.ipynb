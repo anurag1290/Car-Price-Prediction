{
 "cells": [
  {
   "cell_type": "code",
   "execution_count": 99,
   "id": "71b1ed1a",
   "metadata": {},
   "outputs": [],
   "source": [
    "# Predicting price of pre-owned cars based on various attributes associated with the car\n",
    "# Storm Motors data, they are mediators "
   ]
  },
  {
   "cell_type": "code",
   "execution_count": 100,
   "id": "193d5822",
   "metadata": {},
   "outputs": [],
   "source": [
    "import numpy as np\n",
    "import pandas as pd\n",
    "import seaborn as sns\n",
    "import matplotlib.pyplot as plt"
   ]
  },
  {
   "cell_type": "code",
   "execution_count": 101,
   "id": "66a541cb",
   "metadata": {
    "scrolled": true
   },
   "outputs": [
    {
     "data": {
      "text/html": [
       "<div>\n",
       "<style scoped>\n",
       "    .dataframe tbody tr th:only-of-type {\n",
       "        vertical-align: middle;\n",
       "    }\n",
       "\n",
       "    .dataframe tbody tr th {\n",
       "        vertical-align: top;\n",
       "    }\n",
       "\n",
       "    .dataframe thead th {\n",
       "        text-align: right;\n",
       "    }\n",
       "</style>\n",
       "<table border=\"1\" class=\"dataframe\">\n",
       "  <thead>\n",
       "    <tr style=\"text-align: right;\">\n",
       "      <th></th>\n",
       "      <th>dateCrawled</th>\n",
       "      <th>name</th>\n",
       "      <th>seller</th>\n",
       "      <th>offerType</th>\n",
       "      <th>price</th>\n",
       "      <th>abtest</th>\n",
       "      <th>vehicleType</th>\n",
       "      <th>yearOfRegistration</th>\n",
       "      <th>gearbox</th>\n",
       "      <th>powerPS</th>\n",
       "      <th>model</th>\n",
       "      <th>kilometer</th>\n",
       "      <th>monthOfRegistration</th>\n",
       "      <th>fuelType</th>\n",
       "      <th>brand</th>\n",
       "      <th>notRepairedDamage</th>\n",
       "      <th>dateCreated</th>\n",
       "      <th>postalCode</th>\n",
       "      <th>lastSeen</th>\n",
       "    </tr>\n",
       "  </thead>\n",
       "  <tbody>\n",
       "    <tr>\n",
       "      <th>0</th>\n",
       "      <td>30/03/2016 13:51</td>\n",
       "      <td>Zu_verkaufen</td>\n",
       "      <td>private</td>\n",
       "      <td>offer</td>\n",
       "      <td>4450</td>\n",
       "      <td>test</td>\n",
       "      <td>limousine</td>\n",
       "      <td>2003</td>\n",
       "      <td>manual</td>\n",
       "      <td>150</td>\n",
       "      <td>3er</td>\n",
       "      <td>150000</td>\n",
       "      <td>3</td>\n",
       "      <td>diesel</td>\n",
       "      <td>bmw</td>\n",
       "      <td>NaN</td>\n",
       "      <td>30/03/2016 0:00</td>\n",
       "      <td>20257</td>\n",
       "      <td>7/4/2016 4:44</td>\n",
       "    </tr>\n",
       "    <tr>\n",
       "      <th>1</th>\n",
       "      <td>7/3/2016 9:54</td>\n",
       "      <td>Volvo_XC90_2.4D_Summum</td>\n",
       "      <td>private</td>\n",
       "      <td>offer</td>\n",
       "      <td>13299</td>\n",
       "      <td>control</td>\n",
       "      <td>suv</td>\n",
       "      <td>2005</td>\n",
       "      <td>manual</td>\n",
       "      <td>163</td>\n",
       "      <td>xc_reihe</td>\n",
       "      <td>150000</td>\n",
       "      <td>6</td>\n",
       "      <td>diesel</td>\n",
       "      <td>volvo</td>\n",
       "      <td>no</td>\n",
       "      <td>7/3/2016 0:00</td>\n",
       "      <td>88045</td>\n",
       "      <td>26/03/2016 13:17</td>\n",
       "    </tr>\n",
       "    <tr>\n",
       "      <th>2</th>\n",
       "      <td>1/4/2016 0:57</td>\n",
       "      <td>Volkswagen_Touran</td>\n",
       "      <td>private</td>\n",
       "      <td>offer</td>\n",
       "      <td>3200</td>\n",
       "      <td>test</td>\n",
       "      <td>bus</td>\n",
       "      <td>2003</td>\n",
       "      <td>manual</td>\n",
       "      <td>101</td>\n",
       "      <td>touran</td>\n",
       "      <td>150000</td>\n",
       "      <td>11</td>\n",
       "      <td>diesel</td>\n",
       "      <td>volkswagen</td>\n",
       "      <td>NaN</td>\n",
       "      <td>31/03/2016 0:00</td>\n",
       "      <td>27449</td>\n",
       "      <td>1/4/2016 8:40</td>\n",
       "    </tr>\n",
       "    <tr>\n",
       "      <th>3</th>\n",
       "      <td>19/03/2016 17:50</td>\n",
       "      <td>Seat_Ibiza_1.4_16V_Reference</td>\n",
       "      <td>private</td>\n",
       "      <td>offer</td>\n",
       "      <td>4500</td>\n",
       "      <td>control</td>\n",
       "      <td>small car</td>\n",
       "      <td>2006</td>\n",
       "      <td>manual</td>\n",
       "      <td>86</td>\n",
       "      <td>ibiza</td>\n",
       "      <td>60000</td>\n",
       "      <td>12</td>\n",
       "      <td>petrol</td>\n",
       "      <td>seat</td>\n",
       "      <td>no</td>\n",
       "      <td>19/03/2016 0:00</td>\n",
       "      <td>34537</td>\n",
       "      <td>7/4/2016 4:44</td>\n",
       "    </tr>\n",
       "    <tr>\n",
       "      <th>4</th>\n",
       "      <td>16/03/2016 14:51</td>\n",
       "      <td>Volvo_XC90_D5_Aut._RDesign_R_Design_AWD_GSHD_S...</td>\n",
       "      <td>private</td>\n",
       "      <td>offer</td>\n",
       "      <td>18750</td>\n",
       "      <td>test</td>\n",
       "      <td>suv</td>\n",
       "      <td>2008</td>\n",
       "      <td>automatic</td>\n",
       "      <td>185</td>\n",
       "      <td>xc_reihe</td>\n",
       "      <td>150000</td>\n",
       "      <td>11</td>\n",
       "      <td>diesel</td>\n",
       "      <td>volvo</td>\n",
       "      <td>no</td>\n",
       "      <td>16/03/2016 0:00</td>\n",
       "      <td>55270</td>\n",
       "      <td>1/4/2016 23:18</td>\n",
       "    </tr>\n",
       "    <tr>\n",
       "      <th>...</th>\n",
       "      <td>...</td>\n",
       "      <td>...</td>\n",
       "      <td>...</td>\n",
       "      <td>...</td>\n",
       "      <td>...</td>\n",
       "      <td>...</td>\n",
       "      <td>...</td>\n",
       "      <td>...</td>\n",
       "      <td>...</td>\n",
       "      <td>...</td>\n",
       "      <td>...</td>\n",
       "      <td>...</td>\n",
       "      <td>...</td>\n",
       "      <td>...</td>\n",
       "      <td>...</td>\n",
       "      <td>...</td>\n",
       "      <td>...</td>\n",
       "      <td>...</td>\n",
       "      <td>...</td>\n",
       "    </tr>\n",
       "    <tr>\n",
       "      <th>49996</th>\n",
       "      <td>3/4/2016 15:48</td>\n",
       "      <td>Suche_VW_T5_Multivan</td>\n",
       "      <td>private</td>\n",
       "      <td>request</td>\n",
       "      <td>0</td>\n",
       "      <td>test</td>\n",
       "      <td>bus</td>\n",
       "      <td>2005</td>\n",
       "      <td>NaN</td>\n",
       "      <td>0</td>\n",
       "      <td>transporter</td>\n",
       "      <td>150000</td>\n",
       "      <td>0</td>\n",
       "      <td>NaN</td>\n",
       "      <td>volkswagen</td>\n",
       "      <td>NaN</td>\n",
       "      <td>3/4/2016 0:00</td>\n",
       "      <td>29690</td>\n",
       "      <td>5/4/2016 15:16</td>\n",
       "    </tr>\n",
       "    <tr>\n",
       "      <th>49997</th>\n",
       "      <td>27/03/2016 14:55</td>\n",
       "      <td>Suche_einen_originalen_VW_Golf_2_Fire_and_Ice_G60</td>\n",
       "      <td>private</td>\n",
       "      <td>request</td>\n",
       "      <td>19999</td>\n",
       "      <td>control</td>\n",
       "      <td>NaN</td>\n",
       "      <td>1990</td>\n",
       "      <td>NaN</td>\n",
       "      <td>0</td>\n",
       "      <td>golf</td>\n",
       "      <td>5000</td>\n",
       "      <td>0</td>\n",
       "      <td>NaN</td>\n",
       "      <td>volkswagen</td>\n",
       "      <td>NaN</td>\n",
       "      <td>27/03/2016 0:00</td>\n",
       "      <td>50181</td>\n",
       "      <td>7/4/2016 11:45</td>\n",
       "    </tr>\n",
       "    <tr>\n",
       "      <th>49998</th>\n",
       "      <td>14/03/2016 18:51</td>\n",
       "      <td>[SUCHE]_BMW_e46_Coupe_330ci_M_Paket_Facelift__...</td>\n",
       "      <td>private</td>\n",
       "      <td>request</td>\n",
       "      <td>0</td>\n",
       "      <td>test</td>\n",
       "      <td>coupe</td>\n",
       "      <td>2004</td>\n",
       "      <td>manual</td>\n",
       "      <td>0</td>\n",
       "      <td>3er</td>\n",
       "      <td>150000</td>\n",
       "      <td>1</td>\n",
       "      <td>petrol</td>\n",
       "      <td>bmw</td>\n",
       "      <td>no</td>\n",
       "      <td>14/03/2016 0:00</td>\n",
       "      <td>86956</td>\n",
       "      <td>25/03/2016 6:17</td>\n",
       "    </tr>\n",
       "    <tr>\n",
       "      <th>49999</th>\n",
       "      <td>15/03/2016 18:06</td>\n",
       "      <td>Verkaufe_mehrere_Fahrzeuge_zum_Verschrotten</td>\n",
       "      <td>commercial</td>\n",
       "      <td>offer</td>\n",
       "      <td>100</td>\n",
       "      <td>control</td>\n",
       "      <td>station wagon</td>\n",
       "      <td>2000</td>\n",
       "      <td>manual</td>\n",
       "      <td>0</td>\n",
       "      <td>megane</td>\n",
       "      <td>150000</td>\n",
       "      <td>8</td>\n",
       "      <td>petrol</td>\n",
       "      <td>renault</td>\n",
       "      <td>NaN</td>\n",
       "      <td>15/03/2016 0:00</td>\n",
       "      <td>65232</td>\n",
       "      <td>6/4/2016 17:15</td>\n",
       "    </tr>\n",
       "    <tr>\n",
       "      <th>50000</th>\n",
       "      <td>22/03/2016 9:54</td>\n",
       "      <td>Chevrolet_Matiz_1.Hd_TÜV11/2017</td>\n",
       "      <td>commercial</td>\n",
       "      <td>offer</td>\n",
       "      <td>1100</td>\n",
       "      <td>test</td>\n",
       "      <td>small car</td>\n",
       "      <td>2006</td>\n",
       "      <td>manual</td>\n",
       "      <td>38</td>\n",
       "      <td>matiz</td>\n",
       "      <td>150000</td>\n",
       "      <td>10</td>\n",
       "      <td>petrol</td>\n",
       "      <td>chevrolet</td>\n",
       "      <td>no</td>\n",
       "      <td>22/03/2016 0:00</td>\n",
       "      <td>7973</td>\n",
       "      <td>5/4/2016 21:15</td>\n",
       "    </tr>\n",
       "  </tbody>\n",
       "</table>\n",
       "<p>50001 rows × 19 columns</p>\n",
       "</div>"
      ],
      "text/plain": [
       "            dateCrawled                                               name  \\\n",
       "0      30/03/2016 13:51                                       Zu_verkaufen   \n",
       "1         7/3/2016 9:54                             Volvo_XC90_2.4D_Summum   \n",
       "2         1/4/2016 0:57                                  Volkswagen_Touran   \n",
       "3      19/03/2016 17:50                       Seat_Ibiza_1.4_16V_Reference   \n",
       "4      16/03/2016 14:51  Volvo_XC90_D5_Aut._RDesign_R_Design_AWD_GSHD_S...   \n",
       "...                 ...                                                ...   \n",
       "49996    3/4/2016 15:48                               Suche_VW_T5_Multivan   \n",
       "49997  27/03/2016 14:55  Suche_einen_originalen_VW_Golf_2_Fire_and_Ice_G60   \n",
       "49998  14/03/2016 18:51  [SUCHE]_BMW_e46_Coupe_330ci_M_Paket_Facelift__...   \n",
       "49999  15/03/2016 18:06        Verkaufe_mehrere_Fahrzeuge_zum_Verschrotten   \n",
       "50000   22/03/2016 9:54                    Chevrolet_Matiz_1.Hd_TÜV11/2017   \n",
       "\n",
       "           seller offerType  price   abtest    vehicleType  \\\n",
       "0         private     offer   4450     test      limousine   \n",
       "1         private     offer  13299  control            suv   \n",
       "2         private     offer   3200     test            bus   \n",
       "3         private     offer   4500  control      small car   \n",
       "4         private     offer  18750     test            suv   \n",
       "...           ...       ...    ...      ...            ...   \n",
       "49996     private   request      0     test            bus   \n",
       "49997     private   request  19999  control            NaN   \n",
       "49998     private   request      0     test          coupe   \n",
       "49999  commercial     offer    100  control  station wagon   \n",
       "50000  commercial     offer   1100     test      small car   \n",
       "\n",
       "       yearOfRegistration    gearbox  powerPS        model  kilometer  \\\n",
       "0                    2003     manual      150          3er     150000   \n",
       "1                    2005     manual      163     xc_reihe     150000   \n",
       "2                    2003     manual      101       touran     150000   \n",
       "3                    2006     manual       86        ibiza      60000   \n",
       "4                    2008  automatic      185     xc_reihe     150000   \n",
       "...                   ...        ...      ...          ...        ...   \n",
       "49996                2005        NaN        0  transporter     150000   \n",
       "49997                1990        NaN        0         golf       5000   \n",
       "49998                2004     manual        0          3er     150000   \n",
       "49999                2000     manual        0       megane     150000   \n",
       "50000                2006     manual       38        matiz     150000   \n",
       "\n",
       "       monthOfRegistration fuelType       brand notRepairedDamage  \\\n",
       "0                        3   diesel         bmw               NaN   \n",
       "1                        6   diesel       volvo                no   \n",
       "2                       11   diesel  volkswagen               NaN   \n",
       "3                       12   petrol        seat                no   \n",
       "4                       11   diesel       volvo                no   \n",
       "...                    ...      ...         ...               ...   \n",
       "49996                    0      NaN  volkswagen               NaN   \n",
       "49997                    0      NaN  volkswagen               NaN   \n",
       "49998                    1   petrol         bmw                no   \n",
       "49999                    8   petrol     renault               NaN   \n",
       "50000                   10   petrol   chevrolet                no   \n",
       "\n",
       "           dateCreated  postalCode          lastSeen  \n",
       "0      30/03/2016 0:00       20257     7/4/2016 4:44  \n",
       "1        7/3/2016 0:00       88045  26/03/2016 13:17  \n",
       "2      31/03/2016 0:00       27449     1/4/2016 8:40  \n",
       "3      19/03/2016 0:00       34537     7/4/2016 4:44  \n",
       "4      16/03/2016 0:00       55270    1/4/2016 23:18  \n",
       "...                ...         ...               ...  \n",
       "49996    3/4/2016 0:00       29690    5/4/2016 15:16  \n",
       "49997  27/03/2016 0:00       50181    7/4/2016 11:45  \n",
       "49998  14/03/2016 0:00       86956   25/03/2016 6:17  \n",
       "49999  15/03/2016 0:00       65232    6/4/2016 17:15  \n",
       "50000  22/03/2016 0:00        7973    5/4/2016 21:15  \n",
       "\n",
       "[50001 rows x 19 columns]"
      ]
     },
     "execution_count": 101,
     "metadata": {},
     "output_type": "execute_result"
    }
   ],
   "source": [
    "# importing the data set\n",
    "cars_data=pd.read_csv('cars_sampled.csv')\n",
    "cars_data"
   ]
  },
  {
   "cell_type": "markdown",
   "id": "c8ef876f",
   "metadata": {},
   "source": [
    "- dependent variable - numerical\n",
    "\n",
    "- Solution Conceptulaziation\n",
    "\n",
    "- identify if data is clean\n",
    "\n",
    "- look for missing values\n",
    "\n",
    "- Identify variables influencing price and look for relationship among variables (correlation, boxplot,scatter etc)\n",
    "\n",
    "- identify outliers (central tendency mesures, dispersion maeasures, box plots, histograms etc.\n",
    "\n",
    "- Identify if categories with meagre frequencies can be combined\n",
    " \n",
    "- Filter data based on logical checks & reduced number of data\n",
    "\n",
    "- Method Identification ( Linear Regression, Random forest)\n",
    "\n",
    "\n"
   ]
  },
  {
   "cell_type": "code",
   "execution_count": 102,
   "id": "c77d3125",
   "metadata": {},
   "outputs": [],
   "source": [
    "# Create copy\n",
    "cars=cars_data.copy()"
   ]
  },
  {
   "cell_type": "code",
   "execution_count": 103,
   "id": "6a9d8107",
   "metadata": {
    "scrolled": true
   },
   "outputs": [
    {
     "name": "stdout",
     "output_type": "stream",
     "text": [
      "<class 'pandas.core.frame.DataFrame'>\n",
      "RangeIndex: 50001 entries, 0 to 50000\n",
      "Data columns (total 19 columns):\n",
      " #   Column               Non-Null Count  Dtype \n",
      "---  ------               --------------  ----- \n",
      " 0   dateCrawled          50001 non-null  object\n",
      " 1   name                 50001 non-null  object\n",
      " 2   seller               50001 non-null  object\n",
      " 3   offerType            50001 non-null  object\n",
      " 4   price                50001 non-null  int64 \n",
      " 5   abtest               50001 non-null  object\n",
      " 6   vehicleType          44813 non-null  object\n",
      " 7   yearOfRegistration   50001 non-null  int64 \n",
      " 8   gearbox              47177 non-null  object\n",
      " 9   powerPS              50001 non-null  int64 \n",
      " 10  model                47243 non-null  object\n",
      " 11  kilometer            50001 non-null  int64 \n",
      " 12  monthOfRegistration  50001 non-null  int64 \n",
      " 13  fuelType             45498 non-null  object\n",
      " 14  brand                50001 non-null  object\n",
      " 15  notRepairedDamage    40285 non-null  object\n",
      " 16  dateCreated          50001 non-null  object\n",
      " 17  postalCode           50001 non-null  int64 \n",
      " 18  lastSeen             50001 non-null  object\n",
      "dtypes: int64(6), object(13)\n",
      "memory usage: 7.2+ MB\n"
     ]
    }
   ],
   "source": [
    "# Structure of the data\n",
    "cars.info()"
   ]
  },
  {
   "cell_type": "markdown",
   "id": "2e80ab6d",
   "metadata": {},
   "source": [
    "- missing values (vehicleType, gearbox, model,fuelType,notRepairedDamage )"
   ]
  },
  {
   "cell_type": "code",
   "execution_count": 104,
   "id": "85d75e59",
   "metadata": {},
   "outputs": [
    {
     "data": {
      "text/html": [
       "<div>\n",
       "<style scoped>\n",
       "    .dataframe tbody tr th:only-of-type {\n",
       "        vertical-align: middle;\n",
       "    }\n",
       "\n",
       "    .dataframe tbody tr th {\n",
       "        vertical-align: top;\n",
       "    }\n",
       "\n",
       "    .dataframe thead th {\n",
       "        text-align: right;\n",
       "    }\n",
       "</style>\n",
       "<table border=\"1\" class=\"dataframe\">\n",
       "  <thead>\n",
       "    <tr style=\"text-align: right;\">\n",
       "      <th></th>\n",
       "      <th>price</th>\n",
       "      <th>yearOfRegistration</th>\n",
       "      <th>powerPS</th>\n",
       "      <th>kilometer</th>\n",
       "      <th>monthOfRegistration</th>\n",
       "      <th>postalCode</th>\n",
       "    </tr>\n",
       "  </thead>\n",
       "  <tbody>\n",
       "    <tr>\n",
       "      <th>count</th>\n",
       "      <td>50001.000</td>\n",
       "      <td>50001.000</td>\n",
       "      <td>50001.000</td>\n",
       "      <td>50001.000</td>\n",
       "      <td>50001.000</td>\n",
       "      <td>50001.000</td>\n",
       "    </tr>\n",
       "    <tr>\n",
       "      <th>mean</th>\n",
       "      <td>6559.865</td>\n",
       "      <td>2005.544</td>\n",
       "      <td>116.496</td>\n",
       "      <td>125613.688</td>\n",
       "      <td>5.744</td>\n",
       "      <td>50775.217</td>\n",
       "    </tr>\n",
       "    <tr>\n",
       "      <th>std</th>\n",
       "      <td>85818.470</td>\n",
       "      <td>122.992</td>\n",
       "      <td>230.568</td>\n",
       "      <td>40205.234</td>\n",
       "      <td>3.711</td>\n",
       "      <td>25743.702</td>\n",
       "    </tr>\n",
       "    <tr>\n",
       "      <th>min</th>\n",
       "      <td>0.000</td>\n",
       "      <td>1000.000</td>\n",
       "      <td>0.000</td>\n",
       "      <td>5000.000</td>\n",
       "      <td>0.000</td>\n",
       "      <td>1067.000</td>\n",
       "    </tr>\n",
       "    <tr>\n",
       "      <th>25%</th>\n",
       "      <td>1150.000</td>\n",
       "      <td>1999.000</td>\n",
       "      <td>69.000</td>\n",
       "      <td>125000.000</td>\n",
       "      <td>3.000</td>\n",
       "      <td>30559.000</td>\n",
       "    </tr>\n",
       "    <tr>\n",
       "      <th>50%</th>\n",
       "      <td>2950.000</td>\n",
       "      <td>2003.000</td>\n",
       "      <td>105.000</td>\n",
       "      <td>150000.000</td>\n",
       "      <td>6.000</td>\n",
       "      <td>49504.000</td>\n",
       "    </tr>\n",
       "    <tr>\n",
       "      <th>75%</th>\n",
       "      <td>7190.000</td>\n",
       "      <td>2008.000</td>\n",
       "      <td>150.000</td>\n",
       "      <td>150000.000</td>\n",
       "      <td>9.000</td>\n",
       "      <td>71404.000</td>\n",
       "    </tr>\n",
       "    <tr>\n",
       "      <th>max</th>\n",
       "      <td>12345678.000</td>\n",
       "      <td>9999.000</td>\n",
       "      <td>19312.000</td>\n",
       "      <td>150000.000</td>\n",
       "      <td>12.000</td>\n",
       "      <td>99998.000</td>\n",
       "    </tr>\n",
       "  </tbody>\n",
       "</table>\n",
       "</div>"
      ],
      "text/plain": [
       "             price  yearOfRegistration   powerPS  kilometer  \\\n",
       "count    50001.000           50001.000 50001.000  50001.000   \n",
       "mean      6559.865            2005.544   116.496 125613.688   \n",
       "std      85818.470             122.992   230.568  40205.234   \n",
       "min          0.000            1000.000     0.000   5000.000   \n",
       "25%       1150.000            1999.000    69.000 125000.000   \n",
       "50%       2950.000            2003.000   105.000 150000.000   \n",
       "75%       7190.000            2008.000   150.000 150000.000   \n",
       "max   12345678.000            9999.000 19312.000 150000.000   \n",
       "\n",
       "       monthOfRegistration  postalCode  \n",
       "count            50001.000   50001.000  \n",
       "mean                 5.744   50775.217  \n",
       "std                  3.711   25743.702  \n",
       "min                  0.000    1067.000  \n",
       "25%                  3.000   30559.000  \n",
       "50%                  6.000   49504.000  \n",
       "75%                  9.000   71404.000  \n",
       "max                 12.000   99998.000  "
      ]
     },
     "execution_count": 104,
     "metadata": {},
     "output_type": "execute_result"
    }
   ],
   "source": [
    "# SUMMARIZING DATA\n",
    "cars.describe()"
   ]
  },
  {
   "cell_type": "markdown",
   "id": "8dd19242",
   "metadata": {},
   "source": [
    "- WE NEED TO CONVERT PRICE INTO 3 DECIMAL FLOAT VALUES"
   ]
  },
  {
   "cell_type": "code",
   "execution_count": 105,
   "id": "97be16f4",
   "metadata": {},
   "outputs": [
    {
     "data": {
      "text/html": [
       "<div>\n",
       "<style scoped>\n",
       "    .dataframe tbody tr th:only-of-type {\n",
       "        vertical-align: middle;\n",
       "    }\n",
       "\n",
       "    .dataframe tbody tr th {\n",
       "        vertical-align: top;\n",
       "    }\n",
       "\n",
       "    .dataframe thead th {\n",
       "        text-align: right;\n",
       "    }\n",
       "</style>\n",
       "<table border=\"1\" class=\"dataframe\">\n",
       "  <thead>\n",
       "    <tr style=\"text-align: right;\">\n",
       "      <th></th>\n",
       "      <th>price</th>\n",
       "      <th>yearOfRegistration</th>\n",
       "      <th>powerPS</th>\n",
       "      <th>kilometer</th>\n",
       "      <th>monthOfRegistration</th>\n",
       "      <th>postalCode</th>\n",
       "    </tr>\n",
       "  </thead>\n",
       "  <tbody>\n",
       "    <tr>\n",
       "      <th>count</th>\n",
       "      <td>50001.000</td>\n",
       "      <td>50001.000</td>\n",
       "      <td>50001.000</td>\n",
       "      <td>50001.000</td>\n",
       "      <td>50001.000</td>\n",
       "      <td>50001.000</td>\n",
       "    </tr>\n",
       "    <tr>\n",
       "      <th>mean</th>\n",
       "      <td>6559.865</td>\n",
       "      <td>2005.544</td>\n",
       "      <td>116.496</td>\n",
       "      <td>125613.688</td>\n",
       "      <td>5.744</td>\n",
       "      <td>50775.217</td>\n",
       "    </tr>\n",
       "    <tr>\n",
       "      <th>std</th>\n",
       "      <td>85818.470</td>\n",
       "      <td>122.992</td>\n",
       "      <td>230.568</td>\n",
       "      <td>40205.234</td>\n",
       "      <td>3.711</td>\n",
       "      <td>25743.702</td>\n",
       "    </tr>\n",
       "    <tr>\n",
       "      <th>min</th>\n",
       "      <td>0.000</td>\n",
       "      <td>1000.000</td>\n",
       "      <td>0.000</td>\n",
       "      <td>5000.000</td>\n",
       "      <td>0.000</td>\n",
       "      <td>1067.000</td>\n",
       "    </tr>\n",
       "    <tr>\n",
       "      <th>25%</th>\n",
       "      <td>1150.000</td>\n",
       "      <td>1999.000</td>\n",
       "      <td>69.000</td>\n",
       "      <td>125000.000</td>\n",
       "      <td>3.000</td>\n",
       "      <td>30559.000</td>\n",
       "    </tr>\n",
       "    <tr>\n",
       "      <th>50%</th>\n",
       "      <td>2950.000</td>\n",
       "      <td>2003.000</td>\n",
       "      <td>105.000</td>\n",
       "      <td>150000.000</td>\n",
       "      <td>6.000</td>\n",
       "      <td>49504.000</td>\n",
       "    </tr>\n",
       "    <tr>\n",
       "      <th>75%</th>\n",
       "      <td>7190.000</td>\n",
       "      <td>2008.000</td>\n",
       "      <td>150.000</td>\n",
       "      <td>150000.000</td>\n",
       "      <td>9.000</td>\n",
       "      <td>71404.000</td>\n",
       "    </tr>\n",
       "    <tr>\n",
       "      <th>max</th>\n",
       "      <td>12345678.000</td>\n",
       "      <td>9999.000</td>\n",
       "      <td>19312.000</td>\n",
       "      <td>150000.000</td>\n",
       "      <td>12.000</td>\n",
       "      <td>99998.000</td>\n",
       "    </tr>\n",
       "  </tbody>\n",
       "</table>\n",
       "</div>"
      ],
      "text/plain": [
       "             price  yearOfRegistration   powerPS  kilometer  \\\n",
       "count    50001.000           50001.000 50001.000  50001.000   \n",
       "mean      6559.865            2005.544   116.496 125613.688   \n",
       "std      85818.470             122.992   230.568  40205.234   \n",
       "min          0.000            1000.000     0.000   5000.000   \n",
       "25%       1150.000            1999.000    69.000 125000.000   \n",
       "50%       2950.000            2003.000   105.000 150000.000   \n",
       "75%       7190.000            2008.000   150.000 150000.000   \n",
       "max   12345678.000            9999.000 19312.000 150000.000   \n",
       "\n",
       "       monthOfRegistration  postalCode  \n",
       "count            50001.000   50001.000  \n",
       "mean                 5.744   50775.217  \n",
       "std                  3.711   25743.702  \n",
       "min                  0.000    1067.000  \n",
       "25%                  3.000   30559.000  \n",
       "50%                  6.000   49504.000  \n",
       "75%                  9.000   71404.000  \n",
       "max                 12.000   99998.000  "
      ]
     },
     "execution_count": 105,
     "metadata": {},
     "output_type": "execute_result"
    }
   ],
   "source": [
    "pd.set_option('display.float_format', lambda x: '%.3f' %x)\n",
    "cars.describe()"
   ]
  },
  {
   "cell_type": "code",
   "execution_count": 106,
   "id": "3972f5e5",
   "metadata": {},
   "outputs": [
    {
     "data": {
      "text/html": [
       "<div>\n",
       "<style scoped>\n",
       "    .dataframe tbody tr th:only-of-type {\n",
       "        vertical-align: middle;\n",
       "    }\n",
       "\n",
       "    .dataframe tbody tr th {\n",
       "        vertical-align: top;\n",
       "    }\n",
       "\n",
       "    .dataframe thead th {\n",
       "        text-align: right;\n",
       "    }\n",
       "</style>\n",
       "<table border=\"1\" class=\"dataframe\">\n",
       "  <thead>\n",
       "    <tr style=\"text-align: right;\">\n",
       "      <th></th>\n",
       "      <th>price</th>\n",
       "      <th>yearOfRegistration</th>\n",
       "      <th>powerPS</th>\n",
       "      <th>kilometer</th>\n",
       "      <th>monthOfRegistration</th>\n",
       "      <th>postalCode</th>\n",
       "    </tr>\n",
       "  </thead>\n",
       "  <tbody>\n",
       "    <tr>\n",
       "      <th>count</th>\n",
       "      <td>50001.000</td>\n",
       "      <td>50001.000</td>\n",
       "      <td>50001.000</td>\n",
       "      <td>50001.000</td>\n",
       "      <td>50001.000</td>\n",
       "      <td>50001.000</td>\n",
       "    </tr>\n",
       "    <tr>\n",
       "      <th>mean</th>\n",
       "      <td>6559.865</td>\n",
       "      <td>2005.544</td>\n",
       "      <td>116.496</td>\n",
       "      <td>125613.688</td>\n",
       "      <td>5.744</td>\n",
       "      <td>50775.217</td>\n",
       "    </tr>\n",
       "    <tr>\n",
       "      <th>std</th>\n",
       "      <td>85818.470</td>\n",
       "      <td>122.992</td>\n",
       "      <td>230.568</td>\n",
       "      <td>40205.234</td>\n",
       "      <td>3.711</td>\n",
       "      <td>25743.702</td>\n",
       "    </tr>\n",
       "    <tr>\n",
       "      <th>min</th>\n",
       "      <td>0.000</td>\n",
       "      <td>1000.000</td>\n",
       "      <td>0.000</td>\n",
       "      <td>5000.000</td>\n",
       "      <td>0.000</td>\n",
       "      <td>1067.000</td>\n",
       "    </tr>\n",
       "    <tr>\n",
       "      <th>25%</th>\n",
       "      <td>1150.000</td>\n",
       "      <td>1999.000</td>\n",
       "      <td>69.000</td>\n",
       "      <td>125000.000</td>\n",
       "      <td>3.000</td>\n",
       "      <td>30559.000</td>\n",
       "    </tr>\n",
       "    <tr>\n",
       "      <th>50%</th>\n",
       "      <td>2950.000</td>\n",
       "      <td>2003.000</td>\n",
       "      <td>105.000</td>\n",
       "      <td>150000.000</td>\n",
       "      <td>6.000</td>\n",
       "      <td>49504.000</td>\n",
       "    </tr>\n",
       "    <tr>\n",
       "      <th>75%</th>\n",
       "      <td>7190.000</td>\n",
       "      <td>2008.000</td>\n",
       "      <td>150.000</td>\n",
       "      <td>150000.000</td>\n",
       "      <td>9.000</td>\n",
       "      <td>71404.000</td>\n",
       "    </tr>\n",
       "    <tr>\n",
       "      <th>max</th>\n",
       "      <td>12345678.000</td>\n",
       "      <td>9999.000</td>\n",
       "      <td>19312.000</td>\n",
       "      <td>150000.000</td>\n",
       "      <td>12.000</td>\n",
       "      <td>99998.000</td>\n",
       "    </tr>\n",
       "  </tbody>\n",
       "</table>\n",
       "</div>"
      ],
      "text/plain": [
       "             price  yearOfRegistration   powerPS  kilometer  \\\n",
       "count    50001.000           50001.000 50001.000  50001.000   \n",
       "mean      6559.865            2005.544   116.496 125613.688   \n",
       "std      85818.470             122.992   230.568  40205.234   \n",
       "min          0.000            1000.000     0.000   5000.000   \n",
       "25%       1150.000            1999.000    69.000 125000.000   \n",
       "50%       2950.000            2003.000   105.000 150000.000   \n",
       "75%       7190.000            2008.000   150.000 150000.000   \n",
       "max   12345678.000            9999.000 19312.000 150000.000   \n",
       "\n",
       "       monthOfRegistration  postalCode  \n",
       "count            50001.000   50001.000  \n",
       "mean                 5.744   50775.217  \n",
       "std                  3.711   25743.702  \n",
       "min                  0.000    1067.000  \n",
       "25%                  3.000   30559.000  \n",
       "50%                  6.000   49504.000  \n",
       "75%                  9.000   71404.000  \n",
       "max                 12.000   99998.000  "
      ]
     },
     "execution_count": 106,
     "metadata": {},
     "output_type": "execute_result"
    }
   ],
   "source": [
    "# To display max set of columns\n",
    "pd.set_option('display.max_columns', 500)\n",
    "cars.describe()"
   ]
  },
  {
   "cell_type": "code",
   "execution_count": 107,
   "id": "91a3c10b",
   "metadata": {},
   "outputs": [],
   "source": [
    "# Dropping unwanted columns\n",
    "col=['name','dateCrawled','dateCreated','postalCode','lastSeen']\n",
    "cars=cars.drop(columns=col, axis=1)"
   ]
  },
  {
   "cell_type": "code",
   "execution_count": 108,
   "id": "95b7f3b6",
   "metadata": {},
   "outputs": [
    {
     "data": {
      "text/plain": [
       "(49531, 14)"
      ]
     },
     "execution_count": 108,
     "metadata": {},
     "output_type": "execute_result"
    }
   ],
   "source": [
    "# removing duplicates\n",
    "cars.drop_duplicates(keep='first',inplace=True)\n",
    "cars.shape"
   ]
  },
  {
   "cell_type": "code",
   "execution_count": 109,
   "id": "b668d570",
   "metadata": {},
   "outputs": [],
   "source": [
    "#                                 Data Cleaning"
   ]
  },
  {
   "cell_type": "code",
   "execution_count": 110,
   "id": "f56acea3",
   "metadata": {},
   "outputs": [
    {
     "data": {
      "text/plain": [
       "seller                    0\n",
       "offerType                 0\n",
       "price                     0\n",
       "abtest                    0\n",
       "vehicleType            5152\n",
       "yearOfRegistration        0\n",
       "gearbox                2765\n",
       "powerPS                   0\n",
       "model                  2730\n",
       "kilometer                 0\n",
       "monthOfRegistration       0\n",
       "fuelType               4467\n",
       "brand                     0\n",
       "notRepairedDamage      9640\n",
       "dtype: int64"
      ]
     },
     "execution_count": 110,
     "metadata": {},
     "output_type": "execute_result"
    }
   ],
   "source": [
    "# no. of missing values\n",
    "cars.isnull().sum()"
   ]
  },
  {
   "cell_type": "markdown",
   "id": "98df490e",
   "metadata": {},
   "source": [
    "- missing values (vehicleType, gearbox, model,fuelType,notRepairedDamage )"
   ]
  },
  {
   "cell_type": "code",
   "execution_count": 111,
   "id": "e8f9a160",
   "metadata": {},
   "outputs": [],
   "source": [
    "# Variable yearsOfRegistration"
   ]
  },
  {
   "cell_type": "code",
   "execution_count": 112,
   "id": "a9c0dc67",
   "metadata": {},
   "outputs": [
    {
     "data": {
      "text/plain": [
       "1000       6\n",
       "1255       1\n",
       "1500       2\n",
       "1910      14\n",
       "1928       1\n",
       "1929       1\n",
       "1933       1\n",
       "1934       1\n",
       "1936       2\n",
       "1938       1\n",
       "1940       1\n",
       "1941       1\n",
       "1943       2\n",
       "1945       2\n",
       "1947       2\n",
       "1950       4\n",
       "1951       4\n",
       "1952       3\n",
       "1953       2\n",
       "1954       1\n",
       "1955       6\n",
       "1956       7\n",
       "1957       5\n",
       "1958       4\n",
       "1959       5\n",
       "1960      32\n",
       "1961       7\n",
       "1962       6\n",
       "1963      11\n",
       "1964      16\n",
       "1965      11\n",
       "1966      13\n",
       "1967      18\n",
       "1968       7\n",
       "1969      25\n",
       "1970      55\n",
       "1971      27\n",
       "1972      39\n",
       "1973      17\n",
       "1974      24\n",
       "1975      21\n",
       "1976      31\n",
       "1977      28\n",
       "1978      49\n",
       "1979      49\n",
       "1980      77\n",
       "1981      32\n",
       "1982      39\n",
       "1983      57\n",
       "1984      49\n",
       "1985     110\n",
       "1986      53\n",
       "1987      80\n",
       "1988     132\n",
       "1989     197\n",
       "1990     395\n",
       "1991     408\n",
       "1992     391\n",
       "1993     455\n",
       "1994     622\n",
       "1995    1267\n",
       "1996    1403\n",
       "1997    1956\n",
       "1998    2428\n",
       "1999    3026\n",
       "2000    3275\n",
       "2001    2782\n",
       "2002    2554\n",
       "2003    2731\n",
       "2004    2597\n",
       "2005    3101\n",
       "2006    2660\n",
       "2007    2347\n",
       "2008    2186\n",
       "2009    2010\n",
       "2010    1643\n",
       "2011    1544\n",
       "2012    1235\n",
       "2013     816\n",
       "2014     623\n",
       "2015     405\n",
       "2016    1351\n",
       "2017    1375\n",
       "2018     528\n",
       "2019       2\n",
       "2222       1\n",
       "2900       1\n",
       "3000       1\n",
       "3500       1\n",
       "3800       1\n",
       "5000       3\n",
       "6000       4\n",
       "7500       1\n",
       "7800       1\n",
       "8500       1\n",
       "8888       2\n",
       "9999       7\n",
       "Name: yearOfRegistration, dtype: int64"
      ]
     },
     "execution_count": 112,
     "metadata": {},
     "output_type": "execute_result"
    }
   ],
   "source": [
    "pd.set_option('display.max_rows', 50000)\n",
    "cars['yearOfRegistration'].value_counts().sort_index()"
   ]
  },
  {
   "cell_type": "code",
   "execution_count": 113,
   "id": "4177079c",
   "metadata": {
    "scrolled": true
   },
   "outputs": [
    {
     "data": {
      "text/plain": [
       "38"
      ]
     },
     "execution_count": 113,
     "metadata": {},
     "output_type": "execute_result"
    }
   ],
   "source": [
    "sum(cars['yearOfRegistration']>2018)\n",
    "sum(cars['yearOfRegistration']<1950)"
   ]
  },
  {
   "cell_type": "markdown",
   "id": "1bffcd2c",
   "metadata": {},
   "source": [
    "-  sum of cars greater than 2018 = 26\n",
    "\n",
    "-  sum of cars less than 1950 = 38\n",
    "\n",
    "-  these are two less and can be ignored"
   ]
  },
  {
   "cell_type": "code",
   "execution_count": 114,
   "id": "583ef041",
   "metadata": {
    "scrolled": true
   },
   "outputs": [
    {
     "data": {
      "text/plain": [
       "<AxesSubplot:xlabel='yearOfRegistration', ylabel='price'>"
      ]
     },
     "execution_count": 114,
     "metadata": {},
     "output_type": "execute_result"
    },
    {
     "data": {
      "image/png": "[encoded data removed]",
      "text/plain": [
       "<Figure size 640x480 with 1 Axes>"
      ]
     },
     "metadata": {},
     "output_type": "display_data"
    }
   ],
   "source": [
    "sns.regplot(x='yearOfRegistration',y='price',scatter=True, fit_reg= False, data=cars)"
   ]
  },
  {
   "cell_type": "code",
   "execution_count": 115,
   "id": "ffe2c336",
   "metadata": {},
   "outputs": [
    {
     "data": {
      "text/plain": [
       "0           1415\n",
       "1            172\n",
       "2              1\n",
       "3              1\n",
       "5              4\n",
       "7              1\n",
       "8              2\n",
       "10             5\n",
       "11             1\n",
       "12             1\n",
       "14             1\n",
       "15             8\n",
       "20             6\n",
       "21             1\n",
       "25             5\n",
       "26             1\n",
       "30             7\n",
       "35             4\n",
       "39             1\n",
       "40             3\n",
       "45             6\n",
       "50            41\n",
       "55             3\n",
       "60             7\n",
       "65             1\n",
       "70             2\n",
       "75             9\n",
       "77             1\n",
       "80            12\n",
       "85             3\n",
       "90             5\n",
       "95             2\n",
       "98             1\n",
       "99            15\n",
       "100          145\n",
       "101            1\n",
       "110            2\n",
       "111            3\n",
       "120           31\n",
       "121            1\n",
       "122            1\n",
       "125            6\n",
       "129            2\n",
       "130           11\n",
       "135            2\n",
       "139            2\n",
       "140            5\n",
       "145            2\n",
       "149            5\n",
       "150          183\n",
       "155            1\n",
       "156            1\n",
       "159            1\n",
       "160            9\n",
       "170           13\n",
       "175            8\n",
       "180           35\n",
       "185            2\n",
       "189            4\n",
       "190           18\n",
       "195            3\n",
       "199           35\n",
       "200          278\n",
       "202            1\n",
       "209            2\n",
       "210            3\n",
       "215            2\n",
       "219            1\n",
       "220           25\n",
       "222            7\n",
       "225            4\n",
       "230           12\n",
       "233            1\n",
       "235            5\n",
       "238            1\n",
       "240            5\n",
       "245            2\n",
       "249           10\n",
       "250          296\n",
       "252            1\n",
       "255            1\n",
       "259            1\n",
       "260            6\n",
       "261            1\n",
       "263            1\n",
       "265            1\n",
       "270            8\n",
       "275            8\n",
       "279            1\n",
       "280           20\n",
       "284            1\n",
       "285            1\n",
       "289            2\n",
       "290           15\n",
       "295            1\n",
       "299           55\n",
       "300          361\n",
       "310            1\n",
       "320           13\n",
       "321            1\n",
       "323            1\n",
       "325            4\n",
       "329            1\n",
       "330            8\n",
       "331            1\n",
       "333           16\n",
       "340            5\n",
       "349            8\n",
       "350          327\n",
       "355            1\n",
       "359            2\n",
       "360            4\n",
       "365            1\n",
       "370           16\n",
       "375            2\n",
       "380           29\n",
       "385            1\n",
       "390           24\n",
       "395            1\n",
       "398            1\n",
       "399           77\n",
       "400          326\n",
       "410            1\n",
       "420            9\n",
       "422            2\n",
       "429            1\n",
       "430            6\n",
       "440            4\n",
       "444           11\n",
       "449            7\n",
       "450          277\n",
       "455            2\n",
       "460            5\n",
       "470            4\n",
       "475            6\n",
       "479            2\n",
       "480           20\n",
       "485            2\n",
       "489            1\n",
       "490           38\n",
       "495            1\n",
       "499           87\n",
       "500          740\n",
       "510            2\n",
       "519            1\n",
       "520            8\n",
       "522            1\n",
       "523            1\n",
       "525            5\n",
       "530            7\n",
       "540            1\n",
       "549           18\n",
       "550          341\n",
       "554            1\n",
       "555           25\n",
       "560            6\n",
       "570            6\n",
       "575            5\n",
       "579            1\n",
       "580           22\n",
       "588            1\n",
       "590           41\n",
       "595            4\n",
       "599          110\n",
       "600          540\n",
       "601            1\n",
       "606            1\n",
       "610            3\n",
       "620            5\n",
       "622            1\n",
       "624            1\n",
       "625            6\n",
       "630            3\n",
       "639            1\n",
       "640            3\n",
       "644            1\n",
       "649           19\n",
       "650          407\n",
       "660            1\n",
       "666           16\n",
       "667            1\n",
       "669            1\n",
       "670            4\n",
       "675            9\n",
       "680           30\n",
       "686            1\n",
       "689            1\n",
       "690           43\n",
       "695            5\n",
       "696            1\n",
       "698            2\n",
       "699          131\n",
       "700          390\n",
       "719            1\n",
       "720            6\n",
       "725            1\n",
       "729            1\n",
       "730            1\n",
       "740            3\n",
       "744            1\n",
       "749           24\n",
       "750          424\n",
       "755            3\n",
       "760            7\n",
       "766            1\n",
       "768            1\n",
       "770            7\n",
       "775            3\n",
       "777           17\n",
       "780           19\n",
       "785            2\n",
       "788            2\n",
       "790           49\n",
       "793            1\n",
       "795            3\n",
       "799          114\n",
       "800          467\n",
       "820            5\n",
       "825            3\n",
       "829            1\n",
       "830            5\n",
       "835            1\n",
       "839            2\n",
       "840            4\n",
       "845            2\n",
       "849           18\n",
       "850          444\n",
       "851            1\n",
       "855            3\n",
       "859            1\n",
       "870            9\n",
       "875            4\n",
       "877            1\n",
       "879            1\n",
       "880           12\n",
       "888           20\n",
       "889            1\n",
       "890           60\n",
       "895            2\n",
       "897            1\n",
       "898            2\n",
       "899          114\n",
       "900          393\n",
       "901            1\n",
       "907            1\n",
       "910            3\n",
       "920            4\n",
       "925            2\n",
       "929            1\n",
       "930            2\n",
       "935            1\n",
       "940            1\n",
       "943            1\n",
       "944            1\n",
       "945            1\n",
       "949            9\n",
       "950          355\n",
       "955            1\n",
       "960            4\n",
       "965            1\n",
       "966            1\n",
       "970            6\n",
       "980           39\n",
       "985            2\n",
       "988            1\n",
       "989            1\n",
       "990          142\n",
       "993            1\n",
       "995            7\n",
       "996            1\n",
       "998            6\n",
       "999          448\n",
       "1000         641\n",
       "1001           2\n",
       "1040           2\n",
       "1049           4\n",
       "1050          96\n",
       "1052           1\n",
       "1055           1\n",
       "1060           1\n",
       "1070           1\n",
       "1080           3\n",
       "1089           1\n",
       "1090          13\n",
       "1099          52\n",
       "1100         389\n",
       "1111          31\n",
       "1120           1\n",
       "1125           1\n",
       "1144           1\n",
       "1149           7\n",
       "1150         227\n",
       "1155           1\n",
       "1159           1\n",
       "1175           2\n",
       "1180           3\n",
       "1190          40\n",
       "1192           1\n",
       "1195           3\n",
       "1198           2\n",
       "1199          89\n",
       "1200         580\n",
       "1201           1\n",
       "1210           1\n",
       "1212           1\n",
       "1222           4\n",
       "1224           1\n",
       "1231           1\n",
       "1234           2\n",
       "1240           3\n",
       "1249           5\n",
       "1250         316\n",
       "1255           2\n",
       "1270           2\n",
       "1275           1\n",
       "1280           8\n",
       "1290          52\n",
       "1295           6\n",
       "1298           2\n",
       "1299         121\n",
       "1300         386\n",
       "1311           1\n",
       "1320           1\n",
       "1321           1\n",
       "1325           1\n",
       "1333           6\n",
       "1349           3\n",
       "1350         275\n",
       "1360           1\n",
       "1361           1\n",
       "1370           3\n",
       "1375           1\n",
       "1379           1\n",
       "1380          13\n",
       "1388           1\n",
       "1390          35\n",
       "1395           3\n",
       "1399         100\n",
       "1400         298\n",
       "1420           1\n",
       "1430           4\n",
       "1432           1\n",
       "1441           1\n",
       "1444           4\n",
       "1448           2\n",
       "1449           6\n",
       "1450         244\n",
       "1455           1\n",
       "1460           2\n",
       "1475           2\n",
       "1480          14\n",
       "1490          99\n",
       "1494           1\n",
       "1495           1\n",
       "1498           2\n",
       "1499         190\n",
       "1500         700\n",
       "1510           1\n",
       "1520           2\n",
       "1525           1\n",
       "1529           1\n",
       "1530           1\n",
       "1549           8\n",
       "1550         137\n",
       "1555          11\n",
       "1560           1\n",
       "1570           1\n",
       "1579           1\n",
       "1580           8\n",
       "1585           1\n",
       "1590          53\n",
       "1595           1\n",
       "1598           1\n",
       "1599          92\n",
       "1600         357\n",
       "1620           2\n",
       "1629           1\n",
       "1630           1\n",
       "1640           1\n",
       "1645           1\n",
       "1648           1\n",
       "1649           8\n",
       "1650         233\n",
       "1660           6\n",
       "1666           5\n",
       "1670           1\n",
       "1675           2\n",
       "1680           5\n",
       "1689           1\n",
       "1690          62\n",
       "1695           3\n",
       "1699          84\n",
       "1700         279\n",
       "1710           1\n",
       "1749           2\n",
       "1750         216\n",
       "1759           1\n",
       "1770           4\n",
       "1775           1\n",
       "1777           1\n",
       "1779           1\n",
       "1780           4\n",
       "1789           1\n",
       "1790          56\n",
       "1795           4\n",
       "1799          67\n",
       "1800         361\n",
       "1820           3\n",
       "1823           1\n",
       "1840           2\n",
       "1849          10\n",
       "1850         191\n",
       "1860           5\n",
       "1870           2\n",
       "1875           1\n",
       "1880           1\n",
       "1888           4\n",
       "1890          42\n",
       "1897           1\n",
       "1899          53\n",
       "1900         258\n",
       "1910           1\n",
       "1920           1\n",
       "1930           1\n",
       "1940           1\n",
       "1949           2\n",
       "1950         234\n",
       "1960           1\n",
       "1970           2\n",
       "1975           1\n",
       "1980          18\n",
       "1989           2\n",
       "1990         126\n",
       "1995           5\n",
       "1998           5\n",
       "1999         324\n",
       "2000         495\n",
       "2005           1\n",
       "2049           2\n",
       "2050          22\n",
       "2070           1\n",
       "2090           2\n",
       "2091           1\n",
       "2095           1\n",
       "2099          15\n",
       "2100         195\n",
       "2128           1\n",
       "2130           2\n",
       "2134           1\n",
       "2149           5\n",
       "2150         103\n",
       "2151           1\n",
       "2170           2\n",
       "2180           4\n",
       "2190          30\n",
       "2195           1\n",
       "2199          61\n",
       "2200         369\n",
       "2210           1\n",
       "2222          40\n",
       "2240           2\n",
       "2241           1\n",
       "2249           4\n",
       "2250         135\n",
       "2280           4\n",
       "2288           1\n",
       "2290          30\n",
       "2295           1\n",
       "2299          57\n",
       "2300         255\n",
       "2314           1\n",
       "2321           1\n",
       "2329           1\n",
       "2333           6\n",
       "2345           7\n",
       "2349           3\n",
       "2350         125\n",
       "2360           1\n",
       "2366           1\n",
       "2375           2\n",
       "2380           5\n",
       "2389           1\n",
       "2390          28\n",
       "2395           1\n",
       "2398           3\n",
       "2399          58\n",
       "2400         217\n",
       "2420           1\n",
       "2440           2\n",
       "2444           7\n",
       "2448           1\n",
       "2449           4\n",
       "2450         131\n",
       "2460           1\n",
       "2470           1\n",
       "2475           1\n",
       "2480           5\n",
       "2489           1\n",
       "2490          76\n",
       "2495           3\n",
       "2499         137\n",
       "2500         587\n",
       "2512           1\n",
       "2520           1\n",
       "2530           1\n",
       "2540           1\n",
       "2549           3\n",
       "2550          57\n",
       "2555           7\n",
       "2570           1\n",
       "2580           3\n",
       "2589           1\n",
       "2590          24\n",
       "2599          46\n",
       "2600         259\n",
       "2620           1\n",
       "2625           1\n",
       "2629           1\n",
       "2649           4\n",
       "2650         108\n",
       "2651           1\n",
       "2657           1\n",
       "2660           3\n",
       "2666           3\n",
       "2671           1\n",
       "2680           4\n",
       "2690          33\n",
       "2698           2\n",
       "2699          34\n",
       "2700         207\n",
       "2720           1\n",
       "2727           1\n",
       "2740           1\n",
       "2744           1\n",
       "2749           4\n",
       "2750         154\n",
       "2777           1\n",
       "2780           2\n",
       "2789           1\n",
       "2790          31\n",
       "2798           2\n",
       "2799          56\n",
       "2800         287\n",
       "2828           1\n",
       "2849           1\n",
       "2850         112\n",
       "2860           1\n",
       "2875           1\n",
       "2880           2\n",
       "2888           9\n",
       "2889           1\n",
       "2890          27\n",
       "2897           1\n",
       "2899          31\n",
       "2900         244\n",
       "2920           2\n",
       "2930           1\n",
       "2940           1\n",
       "2944           1\n",
       "2945           1\n",
       "2949           1\n",
       "2950         174\n",
       "2960           2\n",
       "2970           1\n",
       "2977           1\n",
       "2980          10\n",
       "2986           1\n",
       "2990         143\n",
       "2995           6\n",
       "2998           2\n",
       "2999         236\n",
       "3000         346\n",
       "3015           1\n",
       "3021           1\n",
       "3050          12\n",
       "3070           1\n",
       "3090           2\n",
       "3099          10\n",
       "3100         132\n",
       "3120           1\n",
       "3125           1\n",
       "3130           1\n",
       "3140           1\n",
       "3149           3\n",
       "3150          51\n",
       "3160           1\n",
       "3180           1\n",
       "3190          14\n",
       "3199          35\n",
       "3200         278\n",
       "3210           3\n",
       "3222           3\n",
       "3225           1\n",
       "3249           1\n",
       "3250          90\n",
       "3256           1\n",
       "3270           1\n",
       "3275           1\n",
       "3280           3\n",
       "3290          15\n",
       "3295           1\n",
       "3299          39\n",
       "3300         202\n",
       "3320           1\n",
       "3330           6\n",
       "3333          33\n",
       "3350          62\n",
       "3380           3\n",
       "3390          26\n",
       "3399          23\n",
       "3400         131\n",
       "3410           1\n",
       "3420           1\n",
       "3449           2\n",
       "3450          91\n",
       "3452           1\n",
       "3455           2\n",
       "3470           1\n",
       "3480           8\n",
       "3490          46\n",
       "3495           7\n",
       "3496           1\n",
       "3499         107\n",
       "3500         494\n",
       "3525           1\n",
       "3540           1\n",
       "3544           1\n",
       "3549           1\n",
       "3550          41\n",
       "3555           6\n",
       "3560           2\n",
       "3580           3\n",
       "3590          21\n",
       "3591           1\n",
       "3599          23\n",
       "3600         165\n",
       "3622           1\n",
       "3633           1\n",
       "3649           1\n",
       "3650          86\n",
       "3666           3\n",
       "3670           1\n",
       "3680           3\n",
       "3690          21\n",
       "3699          26\n",
       "3700         148\n",
       "3710           1\n",
       "3715           1\n",
       "3745           1\n",
       "3749           1\n",
       "3750         118\n",
       "3760           1\n",
       "3777           2\n",
       "3780           3\n",
       "3785           1\n",
       "3789           1\n",
       "3790          23\n",
       "3799          37\n",
       "3800         217\n",
       "3840           1\n",
       "3845           1\n",
       "3850          97\n",
       "3880           2\n",
       "3888           2\n",
       "3890          13\n",
       "3895           1\n",
       "3898           1\n",
       "3899          19\n",
       "3900         211\n",
       "3940           2\n",
       "3945           1\n",
       "3949           2\n",
       "3950         139\n",
       "3960           2\n",
       "3970           2\n",
       "3980          10\n",
       "3989           2\n",
       "3990         111\n",
       "3995           4\n",
       "3997           1\n",
       "3998           3\n",
       "3999         224\n",
       "4000         262\n",
       "4005           1\n",
       "4050           5\n",
       "4090           1\n",
       "4099           9\n",
       "4100          83\n",
       "4124           1\n",
       "4125           1\n",
       "4150          41\n",
       "4159           1\n",
       "4165           1\n",
       "4180           1\n",
       "4190           7\n",
       "4198           2\n",
       "4199          30\n",
       "4200         189\n",
       "4201           1\n",
       "4222           1\n",
       "4230           1\n",
       "4249           2\n",
       "4250         100\n",
       "4260           1\n",
       "4270           1\n",
       "4278           1\n",
       "4290          15\n",
       "4298           1\n",
       "4299          24\n",
       "4300         127\n",
       "4320           1\n",
       "4321           3\n",
       "4330           1\n",
       "4333           1\n",
       "4349           1\n",
       "4350          39\n",
       "4380           2\n",
       "4390          14\n",
       "4395           1\n",
       "4399          24\n",
       "4400          97\n",
       "4430           1\n",
       "4440           4\n",
       "4444          24\n",
       "4449           1\n",
       "4450          41\n",
       "4460           1\n",
       "4480           4\n",
       "4484           1\n",
       "4485           2\n",
       "4490          48\n",
       "4495           3\n",
       "4497           1\n",
       "4498           1\n",
       "4499          66\n",
       "4500         417\n",
       "4525           1\n",
       "4538           1\n",
       "4549           1\n",
       "4550          32\n",
       "4555           2\n",
       "4567           1\n",
       "4590          17\n",
       "4595           2\n",
       "4599          12\n",
       "4600          77\n",
       "4622           1\n",
       "4645           1\n",
       "4650          49\n",
       "4660           1\n",
       "4666           2\n",
       "4670           1\n",
       "4680           3\n",
       "4690           6\n",
       "4699          20\n",
       "4700          94\n",
       "4720           2\n",
       "4749           1\n",
       "4750          78\n",
       "4755           2\n",
       "4770           1\n",
       "4775           2\n",
       "4777           2\n",
       "4780           4\n",
       "4785           1\n",
       "4786           1\n",
       "4790          19\n",
       "4799          22\n",
       "4800         163\n",
       "4830           1\n",
       "4850          56\n",
       "4855           1\n",
       "4880           2\n",
       "4888           1\n",
       "4889           1\n",
       "4890          16\n",
       "4895           2\n",
       "4898           1\n",
       "4899          20\n",
       "4900         174\n",
       "4901           1\n",
       "4909           1\n",
       "4925           1\n",
       "4940           1\n",
       "4949           1\n",
       "4950          97\n",
       "4955           1\n",
       "4977           1\n",
       "4980           4\n",
       "4990          89\n",
       "4995           4\n",
       "4997           1\n",
       "4999         198\n",
       "5000         254\n",
       "5005           1\n",
       "5008           1\n",
       "5015           1\n",
       "5050           1\n",
       "5090           1\n",
       "5099           1\n",
       "5100          68\n",
       "5120           1\n",
       "5149           1\n",
       "5150          19\n",
       "5180           1\n",
       "5190           3\n",
       "5198           1\n",
       "5199          32\n",
       "5200         150\n",
       "5222           1\n",
       "5234           1\n",
       "5250          51\n",
       "5280           1\n",
       "5285           1\n",
       "5289           1\n",
       "5290          11\n",
       "5299          24\n",
       "5300         107\n",
       "5333           3\n",
       "5349           1\n",
       "5350          25\n",
       "5375           1\n",
       "5390           9\n",
       "5398           1\n",
       "5399          17\n",
       "5400          94\n",
       "5430           1\n",
       "5432           1\n",
       "5444           1\n",
       "5445           1\n",
       "5449           1\n",
       "5450          34\n",
       "5454           1\n",
       "5480           3\n",
       "5485           1\n",
       "5490          42\n",
       "5498           1\n",
       "5499          45\n",
       "5500         341\n",
       "5540           3\n",
       "5550          22\n",
       "5555          24\n",
       "5570           1\n",
       "5580           1\n",
       "5590           5\n",
       "5599           9\n",
       "5600          89\n",
       "5630           1\n",
       "5648           1\n",
       "5650          22\n",
       "5660           1\n",
       "5666           1\n",
       "5690          13\n",
       "5697           1\n",
       "5699          15\n",
       "5700          82\n",
       "5740           1\n",
       "5749           1\n",
       "5750          46\n",
       "5755           1\n",
       "5765           1\n",
       "5780           2\n",
       "5790           9\n",
       "5795           1\n",
       "5799          18\n",
       "5800         165\n",
       "5822           1\n",
       "5840           1\n",
       "5850          47\n",
       "5855           1\n",
       "5860           1\n",
       "5865           1\n",
       "5880           1\n",
       "5885           1\n",
       "5888           2\n",
       "5890          16\n",
       "5899          15\n",
       "5900         183\n",
       "5940           1\n",
       "5950          76\n",
       "5960           1\n",
       "5975           1\n",
       "5980           3\n",
       "5990          97\n",
       "5995           6\n",
       "5998           1\n",
       "5999         142\n",
       "6000         193\n",
       "6001           1\n",
       "6050           2\n",
       "6066           1\n",
       "6099           3\n",
       "6100          39\n",
       "6150          21\n",
       "6190           4\n",
       "6199          23\n",
       "6200         120\n",
       "6222           1\n",
       "6249           1\n",
       "6250          47\n",
       "6280           3\n",
       "6290          12\n",
       "6295           1\n",
       "6299          20\n",
       "6300         104\n",
       "6330           1\n",
       "6333           1\n",
       "6349           1\n",
       "6350          28\n",
       "6370           1\n",
       "6380           2\n",
       "6385           1\n",
       "6390          12\n",
       "6399          10\n",
       "6400          62\n",
       "6410           1\n",
       "6444           1\n",
       "6447           1\n",
       "6449           4\n",
       "6450          40\n",
       "6480           2\n",
       "6489           1\n",
       "6490          31\n",
       "6495           1\n",
       "6498           1\n",
       "6499          55\n",
       "6500         323\n",
       "6545           1\n",
       "6550          16\n",
       "6555           2\n",
       "6588           1\n",
       "6590          11\n",
       "6595           2\n",
       "6598           1\n",
       "6599           5\n",
       "6600          40\n",
       "6620           1\n",
       "6649           1\n",
       "6650          12\n",
       "6666          11\n",
       "6690           8\n",
       "6699           7\n",
       "6700          71\n",
       "6730           1\n",
       "6749           3\n",
       "6750          52\n",
       "6770           1\n",
       "6777           1\n",
       "6780           1\n",
       "6789           1\n",
       "6790          10\n",
       "6799          13\n",
       "6800         120\n",
       "6840           1\n",
       "6849           1\n",
       "6850          34\n",
       "6855           1\n",
       "6880           3\n",
       "6888           2\n",
       "6890          10\n",
       "6895           1\n",
       "6899          12\n",
       "6900         185\n",
       "6940           2\n",
       "6949           1\n",
       "6950          78\n",
       "6970           1\n",
       "6980           6\n",
       "6989           1\n",
       "6990          74\n",
       "6995           8\n",
       "6998           2\n",
       "6999         134\n",
       "7000         152\n",
       "7007           1\n",
       "7049           1\n",
       "7050           3\n",
       "7052           1\n",
       "7099           3\n",
       "7100          33\n",
       "7115           1\n",
       "7140           1\n",
       "7149           2\n",
       "7150          14\n",
       "7180           1\n",
       "7190           4\n",
       "7199           9\n",
       "7200          90\n",
       "7249           2\n",
       "7250          37\n",
       "7270           1\n",
       "7290           9\n",
       "7295           1\n",
       "7299          22\n",
       "7300          82\n",
       "7333           1\n",
       "7350          14\n",
       "7385           1\n",
       "7390           5\n",
       "7395           1\n",
       "7399          21\n",
       "7400          55\n",
       "7420           1\n",
       "7430           2\n",
       "7444           1\n",
       "7449           1\n",
       "7450          28\n",
       "7455           2\n",
       "7460           1\n",
       "7480           2\n",
       "7485           2\n",
       "7490          36\n",
       "7495           1\n",
       "7498           2\n",
       "7499          51\n",
       "7500         224\n",
       "7539           1\n",
       "7540           1\n",
       "7545           1\n",
       "7550           6\n",
       "7555           3\n",
       "7590           5\n",
       "7598           1\n",
       "7599          14\n",
       "7600          46\n",
       "7603           1\n",
       "7650          20\n",
       "7680           2\n",
       "7688           1\n",
       "7690           9\n",
       "7695           1\n",
       "7699           8\n",
       "7700          54\n",
       "7749           1\n",
       "7750          30\n",
       "7777          23\n",
       "7790           7\n",
       "7795           1\n",
       "7799          12\n",
       "7800          89\n",
       "7840           1\n",
       "7850          23\n",
       "7875           1\n",
       "7880           2\n",
       "7888           2\n",
       "7890          10\n",
       "7899           8\n",
       "7900         128\n",
       "7924           1\n",
       "7949           1\n",
       "7950          55\n",
       "7980           6\n",
       "7990          70\n",
       "7995           1\n",
       "7996           1\n",
       "7997           2\n",
       "7998           2\n",
       "7999         100\n",
       "8000         158\n",
       "8008           1\n",
       "8099           1\n",
       "8100          12\n",
       "8129           1\n",
       "8150           7\n",
       "8190           3\n",
       "8199           3\n",
       "8200          81\n",
       "8245           1\n",
       "8249           2\n",
       "8250          36\n",
       "8258           1\n",
       "8265           1\n",
       "8282           1\n",
       "8285           1\n",
       "8290           5\n",
       "8295           1\n",
       "8299          14\n",
       "8300          54\n",
       "8330           1\n",
       "8333           2\n",
       "8340           1\n",
       "8349           1\n",
       "8350          19\n",
       "8370           1\n",
       "8390           1\n",
       "8399           7\n",
       "8400          25\n",
       "8449           1\n",
       "8450          33\n",
       "8470           1\n",
       "8480           1\n",
       "8490          26\n",
       "8494           1\n",
       "8495           2\n",
       "8499          59\n",
       "8500         227\n",
       "8550           8\n",
       "8555           2\n",
       "8560           1\n",
       "8590           2\n",
       "8595           1\n",
       "8599           7\n",
       "8600          41\n",
       "8645           1\n",
       "8650          24\n",
       "8666           1\n",
       "8675           2\n",
       "8690           2\n",
       "8699           7\n",
       "8700          64\n",
       "8750          41\n",
       "8751           1\n",
       "8770           2\n",
       "8790           8\n",
       "8799           7\n",
       "8800          76\n",
       "8833           1\n",
       "8850          17\n",
       "8870           1\n",
       "8875           1\n",
       "8880           1\n",
       "8885           1\n",
       "8887           1\n",
       "8888          14\n",
       "8889           1\n",
       "8890           2\n",
       "8895           1\n",
       "8899           4\n",
       "8900         149\n",
       "8940           1\n",
       "8950          41\n",
       "8970           1\n",
       "8980           2\n",
       "8989           1\n",
       "8990          58\n",
       "8995           3\n",
       "8998           1\n",
       "8999          91\n",
       "9000         131\n",
       "9050           2\n",
       "9099           2\n",
       "9100          15\n",
       "9130           1\n",
       "9150           9\n",
       "9190           1\n",
       "9199           4\n",
       "9200          49\n",
       "9203           1\n",
       "9240           1\n",
       "9250          27\n",
       "9280           1\n",
       "9290           6\n",
       "9299           6\n",
       "9300          65\n",
       "9350          15\n",
       "9380           1\n",
       "9390           3\n",
       "9399           5\n",
       "9400          31\n",
       "9428           1\n",
       "9440           1\n",
       "9450          21\n",
       "9455           1\n",
       "9469           1\n",
       "9480           3\n",
       "9490          10\n",
       "9495           1\n",
       "9499          21\n",
       "9500         212\n",
       "9550           5\n",
       "9577           1\n",
       "9590           4\n",
       "9599           6\n",
       "9600          21\n",
       "9650           6\n",
       "9690           7\n",
       "9699           3\n",
       "9700          35\n",
       "9750          27\n",
       "9777           2\n",
       "9788           1\n",
       "9790           2\n",
       "9799           3\n",
       "9800          60\n",
       "9850          21\n",
       "9870           1\n",
       "9880           2\n",
       "9890           9\n",
       "9899           7\n",
       "9900         123\n",
       "9920           1\n",
       "9950          41\n",
       "9980           4\n",
       "9989           1\n",
       "9990          65\n",
       "9995           2\n",
       "9998           1\n",
       "9999         155\n",
       "10000        117\n",
       "10050          2\n",
       "10099          1\n",
       "10100          5\n",
       "10111          1\n",
       "10150          3\n",
       "10190          1\n",
       "10199          6\n",
       "10200         23\n",
       "10222          2\n",
       "10230          1\n",
       "10250         10\n",
       "10280          1\n",
       "10290          1\n",
       "10299          5\n",
       "10300         20\n",
       "10310          1\n",
       "10328          1\n",
       "10350         10\n",
       "10380          1\n",
       "10399          1\n",
       "10400         23\n",
       "10444          1\n",
       "10450          9\n",
       "10472          1\n",
       "10480          1\n",
       "10490         19\n",
       "10499         26\n",
       "10500        190\n",
       "10550          2\n",
       "10555          1\n",
       "10590          6\n",
       "10599          6\n",
       "10600         14\n",
       "10650          4\n",
       "10666          1\n",
       "10690          2\n",
       "10699          1\n",
       "10700         20\n",
       "10749          2\n",
       "10750         13\n",
       "10760          1\n",
       "10780          2\n",
       "10790          5\n",
       "10799          2\n",
       "10800         60\n",
       "10850         10\n",
       "10880          1\n",
       "10890          2\n",
       "10899          1\n",
       "10900        114\n",
       "10930          1\n",
       "10949          1\n",
       "10950         22\n",
       "10980          2\n",
       "10987          1\n",
       "10988          1\n",
       "10989          1\n",
       "10990         53\n",
       "10995          1\n",
       "10998          1\n",
       "10999         64\n",
       "11000         93\n",
       "11100          4\n",
       "11111          4\n",
       "11150          5\n",
       "11199          4\n",
       "11200         30\n",
       "11220          1\n",
       "11235          1\n",
       "11240          1\n",
       "11250         13\n",
       "11290          6\n",
       "11299          3\n",
       "11300         23\n",
       "11350          7\n",
       "11390          1\n",
       "11399          7\n",
       "11400         21\n",
       "11444          2\n",
       "11449          1\n",
       "11450         12\n",
       "11490         21\n",
       "11495          1\n",
       "11498          2\n",
       "11499         25\n",
       "11500        165\n",
       "11550          3\n",
       "11555          2\n",
       "11599          3\n",
       "11600         12\n",
       "11650          7\n",
       "11690          3\n",
       "11699          4\n",
       "11700         20\n",
       "11722          1\n",
       "11750         15\n",
       "11790          4\n",
       "11798          1\n",
       "11799          3\n",
       "11800         50\n",
       "11850          6\n",
       "11880          1\n",
       "11888          1\n",
       "11890          7\n",
       "11899          4\n",
       "11900         96\n",
       "11919          1\n",
       "11928          1\n",
       "11940          1\n",
       "11950         25\n",
       "11968          1\n",
       "11979          1\n",
       "11980          4\n",
       "11989          1\n",
       "11990         32\n",
       "11995          1\n",
       "11999         52\n",
       "12000        103\n",
       "12050          1\n",
       "12059          1\n",
       "12100          6\n",
       "12150          2\n",
       "12180          1\n",
       "12190          1\n",
       "12200         24\n",
       "12220          1\n",
       "12222          1\n",
       "12250          9\n",
       "12255          1\n",
       "12290          2\n",
       "12299          2\n",
       "12300         25\n",
       "12320          1\n",
       "12333          1\n",
       "12345          1\n",
       "12350          4\n",
       "12360          1\n",
       "12390          2\n",
       "12395          1\n",
       "12399          2\n",
       "12400         25\n",
       "12430          1\n",
       "12449          1\n",
       "12450         19\n",
       "12470          1\n",
       "12480          1\n",
       "12488          1\n",
       "12490          9\n",
       "12495          2\n",
       "12499         20\n",
       "12500        173\n",
       "12550          1\n",
       "12560          1\n",
       "12567          1\n",
       "12590          3\n",
       "12599          1\n",
       "12600         23\n",
       "12650          3\n",
       "12680          1\n",
       "12690          3\n",
       "12699          5\n",
       "12700         25\n",
       "12735          1\n",
       "12749          1\n",
       "12750         17\n",
       "12770          1\n",
       "12790          4\n",
       "12799          3\n",
       "12800         39\n",
       "12821          1\n",
       "12850          9\n",
       "12877          1\n",
       "12880          1\n",
       "12888          1\n",
       "12890          3\n",
       "12899          7\n",
       "12900         99\n",
       "12920          1\n",
       "12950         33\n",
       "12980          1\n",
       "12986          1\n",
       "12989          1\n",
       "12990         22\n",
       "12995          4\n",
       "12998          1\n",
       "12999         46\n",
       "13000         67\n",
       "13099          1\n",
       "13100         10\n",
       "13150          6\n",
       "13190          1\n",
       "13199          4\n",
       "13200         25\n",
       "13240          1\n",
       "13250         10\n",
       "13290          1\n",
       "13299          4\n",
       "13300         16\n",
       "13333          4\n",
       "13350          3\n",
       "13399          1\n",
       "13400         19\n",
       "13450         13\n",
       "13470          1\n",
       "13489          2\n",
       "13490          9\n",
       "13495          3\n",
       "13498          1\n",
       "13499         19\n",
       "13500        128\n",
       "13520          1\n",
       "13550          5\n",
       "13555          1\n",
       "13590          3\n",
       "13599          2\n",
       "13600         11\n",
       "13650          6\n",
       "13680          1\n",
       "13699          4\n",
       "13700         10\n",
       "13750         11\n",
       "13755          1\n",
       "13777          1\n",
       "13780          1\n",
       "13790          4\n",
       "13798          1\n",
       "13799          4\n",
       "13800         41\n",
       "13850          3\n",
       "13900        109\n",
       "13950         18\n",
       "13975          1\n",
       "13980          1\n",
       "13990         38\n",
       "13995          1\n",
       "13998          1\n",
       "13999         46\n",
       "14000         71\n",
       "14100          3\n",
       "14140          1\n",
       "14150          1\n",
       "14190          1\n",
       "14199          4\n",
       "14200         25\n",
       "14249          1\n",
       "14250          7\n",
       "14290          1\n",
       "14299          3\n",
       "14300         21\n",
       "14333          1\n",
       "14350          4\n",
       "14390          3\n",
       "14399          3\n",
       "14400         13\n",
       "14444          4\n",
       "14449          1\n",
       "14450          4\n",
       "14480          1\n",
       "14489          1\n",
       "14490         10\n",
       "14495          1\n",
       "14498          1\n",
       "14499         13\n",
       "14500        107\n",
       "14540          1\n",
       "14550          1\n",
       "14590          2\n",
       "14599          3\n",
       "14600         11\n",
       "14650          6\n",
       "14690          1\n",
       "14699          4\n",
       "14700         25\n",
       "14749          1\n",
       "14750         11\n",
       "14780          1\n",
       "14790          4\n",
       "14800         27\n",
       "14850          7\n",
       "14870          1\n",
       "14880          1\n",
       "14890          2\n",
       "14899          2\n",
       "14900         86\n",
       "14950         24\n",
       "14975          1\n",
       "14980          1\n",
       "14986          1\n",
       "14990         35\n",
       "14998          1\n",
       "14999         48\n",
       "15000         93\n",
       "15100          2\n",
       "15120          2\n",
       "15150          2\n",
       "15199          3\n",
       "15200         21\n",
       "15232          1\n",
       "15249          1\n",
       "15250          8\n",
       "15290          2\n",
       "15300         17\n",
       "15350          2\n",
       "15390          2\n",
       "15399          1\n",
       "15400         22\n",
       "15432          1\n",
       "15450          8\n",
       "15490          5\n",
       "15498          1\n",
       "15499          9\n",
       "15500         91\n",
       "15550          3\n",
       "15555          4\n",
       "15590          5\n",
       "15595          1\n",
       "15599          1\n",
       "15600         12\n",
       "15650          1\n",
       "15690          2\n",
       "15699          2\n",
       "15700         12\n",
       "15749          1\n",
       "15750         12\n",
       "15777          1\n",
       "15780          1\n",
       "15790          1\n",
       "15799          3\n",
       "15800         25\n",
       "15850          5\n",
       "15880          1\n",
       "15888          1\n",
       "15890          2\n",
       "15899          3\n",
       "15900         61\n",
       "15950         13\n",
       "15980          2\n",
       "15990         26\n",
       "15995          2\n",
       "15998          2\n",
       "15999         40\n",
       "16000         38\n",
       "16100          2\n",
       "16150          3\n",
       "16199          2\n",
       "16200         19\n",
       "16250          4\n",
       "16290          1\n",
       "16299          5\n",
       "16300         12\n",
       "16350          4\n",
       "16390          4\n",
       "16399          1\n",
       "16400         18\n",
       "16444          1\n",
       "16450          8\n",
       "16480          1\n",
       "16485          1\n",
       "16490         11\n",
       "16495          1\n",
       "16499         11\n",
       "16500         88\n",
       "16590          2\n",
       "16599          2\n",
       "16600          9\n",
       "16650          2\n",
       "16666          1\n",
       "16690          1\n",
       "16700          7\n",
       "16750         10\n",
       "16780          1\n",
       "16790          4\n",
       "16799          4\n",
       "16800         29\n",
       "16849          1\n",
       "16850          6\n",
       "16880          3\n",
       "16890          1\n",
       "16899          3\n",
       "16900         71\n",
       "16940          1\n",
       "16950         12\n",
       "16960          2\n",
       "16975          1\n",
       "16980          2\n",
       "16990         23\n",
       "16998          2\n",
       "16999         33\n",
       "17000         42\n",
       "17100          7\n",
       "17190          1\n",
       "17200         12\n",
       "17250          5\n",
       "17290          1\n",
       "17299          2\n",
       "17300         10\n",
       "17350          1\n",
       "17370          1\n",
       "17399          1\n",
       "17400         14\n",
       "17444          1\n",
       "17450         10\n",
       "17480          2\n",
       "17490          8\n",
       "17498          1\n",
       "17499          5\n",
       "17500         74\n",
       "17550          2\n",
       "17590          2\n",
       "17599          2\n",
       "17600          6\n",
       "17650          1\n",
       "17680          1\n",
       "17699          1\n",
       "17700          7\n",
       "17750          4\n",
       "17770          1\n",
       "17777          2\n",
       "17799          1\n",
       "17800         20\n",
       "17850          6\n",
       "17880          1\n",
       "17888          1\n",
       "17889          1\n",
       "17890          4\n",
       "17900         71\n",
       "17950          9\n",
       "17980          4\n",
       "17989          1\n",
       "17990         15\n",
       "17995          2\n",
       "17996          1\n",
       "17999         22\n",
       "18000         37\n",
       "18099          1\n",
       "18181          1\n",
       "18200          4\n",
       "18250          8\n",
       "18276          1\n",
       "18300         10\n",
       "18350          1\n",
       "18400         12\n",
       "18420          1\n",
       "18450          3\n",
       "18490         10\n",
       "18499          9\n",
       "18500         56\n",
       "18555          1\n",
       "18599          3\n",
       "18600          4\n",
       "18650          4\n",
       "18690          2\n",
       "18699          1\n",
       "18700          7\n",
       "18749          1\n",
       "18750          8\n",
       "18777          1\n",
       "18790          3\n",
       "18800         11\n",
       "18850          2\n",
       "18886          1\n",
       "18888          2\n",
       "18890          1\n",
       "18899          1\n",
       "18900         54\n",
       "18950          6\n",
       "18980          1\n",
       "18990         16\n",
       "18999         23\n",
       "19000         34\n",
       "19100          1\n",
       "19121          1\n",
       "19149          1\n",
       "19190          1\n",
       "19199          1\n",
       "19200          8\n",
       "19230          1\n",
       "19250          1\n",
       "19269          1\n",
       "19290          1\n",
       "19300          8\n",
       "19350          1\n",
       "19399          1\n",
       "19400          3\n",
       "19450          2\n",
       "19480          2\n",
       "19490          6\n",
       "19499          6\n",
       "19500         63\n",
       "19550          1\n",
       "19590          1\n",
       "19599          1\n",
       "19600          5\n",
       "19650          3\n",
       "19700          5\n",
       "19750          5\n",
       "19780          1\n",
       "19790          1\n",
       "19800         18\n",
       "19850          8\n",
       "19880          1\n",
       "19890          2\n",
       "19899          2\n",
       "19900         53\n",
       "19911          1\n",
       "19950         16\n",
       "19960          1\n",
       "19980          3\n",
       "19985          1\n",
       "19990         24\n",
       "19995          2\n",
       "19998          2\n",
       "19999         44\n",
       "20000         29\n",
       "20150          1\n",
       "20199          1\n",
       "20200          5\n",
       "20250          4\n",
       "20299          1\n",
       "20335          1\n",
       "20350          2\n",
       "20399          1\n",
       "20400          3\n",
       "20450          2\n",
       "20490          2\n",
       "20499          8\n",
       "20500         29\n",
       "20550          1\n",
       "20590          3\n",
       "20595          1\n",
       "20599          1\n",
       "20600          2\n",
       "20650          2\n",
       "20700          3\n",
       "20750          6\n",
       "20800         10\n",
       "20825          1\n",
       "20845          1\n",
       "20880          2\n",
       "20888          1\n",
       "20890          1\n",
       "20900         25\n",
       "20950          6\n",
       "20980          1\n",
       "20990          9\n",
       "20999         12\n",
       "21000         35\n",
       "21049          1\n",
       "21200          1\n",
       "21250          1\n",
       "21275          1\n",
       "21299          1\n",
       "21300          6\n",
       "21399          2\n",
       "21400          8\n",
       "21450          4\n",
       "21490          4\n",
       "21499          4\n",
       "21500         41\n",
       "21550          1\n",
       "21600          3\n",
       "21650          1\n",
       "21700          7\n",
       "21749          1\n",
       "21750          4\n",
       "21777          1\n",
       "21790          1\n",
       "21800          7\n",
       "21830          1\n",
       "21850          3\n",
       "21890          2\n",
       "21899          2\n",
       "21900         36\n",
       "21950          6\n",
       "21959          1\n",
       "21980          3\n",
       "21990         12\n",
       "21995          1\n",
       "21999         18\n",
       "22000         27\n",
       "22100          1\n",
       "22150          1\n",
       "22200          1\n",
       "22222          3\n",
       "22250          4\n",
       "22300          7\n",
       "22320          1\n",
       "22350          1\n",
       "22390          1\n",
       "22399          2\n",
       "22400          4\n",
       "22450          3\n",
       "22480          1\n",
       "22490          4\n",
       "22499          5\n",
       "22500         41\n",
       "22550          1\n",
       "22599          1\n",
       "22690          1\n",
       "22700          3\n",
       "22750          1\n",
       "22790          1\n",
       "22799          1\n",
       "22800          6\n",
       "22850          1\n",
       "22890          2\n",
       "22900         35\n",
       "22950          2\n",
       "22989          1\n",
       "22990         10\n",
       "22996          1\n",
       "22999          6\n",
       "23000         20\n",
       "23100          1\n",
       "23150          1\n",
       "23200          6\n",
       "23250          4\n",
       "23299          1\n",
       "23300          4\n",
       "23390          1\n",
       "23399          1\n",
       "23400          1\n",
       "23445          1\n",
       "23450          5\n",
       "23456          1\n",
       "23490          3\n",
       "23499          6\n",
       "23500         41\n",
       "23550          1\n",
       "23600          5\n",
       "23650          1\n",
       "23699          2\n",
       "23700          1\n",
       "23720          1\n",
       "23750          3\n",
       "23760          1\n",
       "23799          1\n",
       "23800          7\n",
       "23890          2\n",
       "23899          2\n",
       "23900         30\n",
       "23950          8\n",
       "23990          7\n",
       "23999         14\n",
       "24000         23\n",
       "24200          6\n",
       "24250          2\n",
       "24300          5\n",
       "24301          1\n",
       "24350          2\n",
       "24390          2\n",
       "24399          1\n",
       "24400          7\n",
       "24450          2\n",
       "24490          3\n",
       "24495          1\n",
       "24499          1\n",
       "24500         38\n",
       "24600          1\n",
       "24650          1\n",
       "24699          1\n",
       "24700          3\n",
       "24750          2\n",
       "24800          4\n",
       "24850          3\n",
       "24900         24\n",
       "24950         10\n",
       "24980          1\n",
       "24987          1\n",
       "24990          5\n",
       "24999         16\n",
       "25000         23\n",
       "25200          2\n",
       "25230          1\n",
       "25300          1\n",
       "25400          2\n",
       "25490          3\n",
       "25499          1\n",
       "25500         30\n",
       "25599          1\n",
       "25600          2\n",
       "25650          2\n",
       "25699          1\n",
       "25700          2\n",
       "25750          2\n",
       "25800          3\n",
       "25850          1\n",
       "25880          1\n",
       "25890          2\n",
       "25900         25\n",
       "25950          3\n",
       "25980          1\n",
       "25987          1\n",
       "25990          8\n",
       "25999         13\n",
       "26000         11\n",
       "26199          1\n",
       "26200          4\n",
       "26250          2\n",
       "26299          1\n",
       "26300          2\n",
       "26390          1\n",
       "26399          1\n",
       "26400          3\n",
       "26449          1\n",
       "26450          2\n",
       "26490          1\n",
       "26499          5\n",
       "26500         35\n",
       "26590          1\n",
       "26600          2\n",
       "26749          1\n",
       "26800          3\n",
       "26850          5\n",
       "26888          1\n",
       "26899          1\n",
       "26900         24\n",
       "26950          1\n",
       "26990          5\n",
       "26999          8\n",
       "27000         17\n",
       "27100          1\n",
       "27200          2\n",
       "27300          3\n",
       "27350          2\n",
       "27390          1\n",
       "27400          1\n",
       "27450          4\n",
       "27490          1\n",
       "27499          4\n",
       "27500         30\n",
       "27600          3\n",
       "27650          1\n",
       "27675          1\n",
       "27690          1\n",
       "27700          1\n",
       "27750          4\n",
       "27777          2\n",
       "27790          1\n",
       "27800          7\n",
       "27828          1\n",
       "27850          2\n",
       "27899          2\n",
       "27900         23\n",
       "27950          4\n",
       "27990          7\n",
       "27999          5\n",
       "28000         11\n",
       "28200          3\n",
       "28399          1\n",
       "28400          2\n",
       "28450          2\n",
       "28470          1\n",
       "28490          4\n",
       "28499          2\n",
       "28500         17\n",
       "28600          1\n",
       "28690          1\n",
       "28699          1\n",
       "28750          3\n",
       "28800          5\n",
       "28850          1\n",
       "28880          1\n",
       "28899          1\n",
       "28900         18\n",
       "28950          1\n",
       "28955          1\n",
       "28987          1\n",
       "28990          1\n",
       "28999          6\n",
       "29000         10\n",
       "29199          1\n",
       "29200          1\n",
       "29240          1\n",
       "29250          2\n",
       "29400          1\n",
       "29445          1\n",
       "29450          3\n",
       "29499          1\n",
       "29500         15\n",
       "29550          1\n",
       "29600          1\n",
       "29700          1\n",
       "29750          2\n",
       "29777          1\n",
       "29780          1\n",
       "29799          1\n",
       "29800          5\n",
       "29850          4\n",
       "29900         16\n",
       "29950          5\n",
       "29970          1\n",
       "29980          1\n",
       "29990          9\n",
       "29995          1\n",
       "29998          1\n",
       "29999         10\n",
       "30000         22\n",
       "30100          1\n",
       "30200          2\n",
       "30210          1\n",
       "30400          1\n",
       "30450          1\n",
       "30490          1\n",
       "30500          3\n",
       "30700          1\n",
       "30875          1\n",
       "30900          5\n",
       "30950          1\n",
       "30980          1\n",
       "30999          1\n",
       "31000          9\n",
       "31200          1\n",
       "31250          1\n",
       "31300          1\n",
       "31490          1\n",
       "31500         13\n",
       "31555          1\n",
       "31599          1\n",
       "31600          1\n",
       "31700          1\n",
       "31800          1\n",
       "31900         10\n",
       "31950          1\n",
       "31990          2\n",
       "31999          1\n",
       "32000          5\n",
       "32200          1\n",
       "32300          1\n",
       "32399          1\n",
       "32400          2\n",
       "32480          1\n",
       "32490          2\n",
       "32499          1\n",
       "32500         16\n",
       "32649          1\n",
       "32750          1\n",
       "32800          1\n",
       "32900         16\n",
       "32940          1\n",
       "32950          1\n",
       "32980          2\n",
       "32990          4\n",
       "32999          2\n",
       "33000         12\n",
       "33200          1\n",
       "33250          1\n",
       "33400          3\n",
       "33490          1\n",
       "33499          1\n",
       "33500          5\n",
       "33590          1\n",
       "33700          1\n",
       "33750          1\n",
       "33800          1\n",
       "33850          2\n",
       "33860          1\n",
       "33890          1\n",
       "33900          5\n",
       "33950          1\n",
       "33980          2\n",
       "33996          1\n",
       "33997          1\n",
       "33999          2\n",
       "34000          8\n",
       "34200          1\n",
       "34490          2\n",
       "34500          9\n",
       "34550          1\n",
       "34699          1\n",
       "34700          2\n",
       "34800          2\n",
       "34850          2\n",
       "34890          1\n",
       "34900          4\n",
       "34950          3\n",
       "34990          2\n",
       "34996          2\n",
       "34999          3\n",
       "35000         13\n",
       "35250          1\n",
       "35330          1\n",
       "35370          1\n",
       "35400          2\n",
       "35499          2\n",
       "35500         10\n",
       "35555          1\n",
       "35800          2\n",
       "35850          1\n",
       "35900         11\n",
       "35950          1\n",
       "35980          1\n",
       "35990          2\n",
       "35999          2\n",
       "36000          5\n",
       "36200          1\n",
       "36390          1\n",
       "36399          1\n",
       "36420          1\n",
       "36440          1\n",
       "36500          6\n",
       "36800          3\n",
       "36900          3\n",
       "36950          1\n",
       "36990          2\n",
       "36999          4\n",
       "37000          3\n",
       "37175          1\n",
       "37200          2\n",
       "37300          2\n",
       "37400          1\n",
       "37500          8\n",
       "37800          4\n",
       "37880          1\n",
       "37900          7\n",
       "37999          4\n",
       "38000          3\n",
       "38200          3\n",
       "38500          6\n",
       "38600          1\n",
       "38800          3\n",
       "38850          1\n",
       "38900          4\n",
       "38950          2\n",
       "38990          2\n",
       "38999          2\n",
       "39000          7\n",
       "39300          1\n",
       "39400          1\n",
       "39500          5\n",
       "39600          2\n",
       "39660          1\n",
       "39750          1\n",
       "39800          2\n",
       "39830          1\n",
       "39890          1\n",
       "39900         14\n",
       "39950          3\n",
       "39979          1\n",
       "39990          1\n",
       "39999          5\n",
       "40000          8\n",
       "40500          3\n",
       "40800          1\n",
       "40830          1\n",
       "40850          1\n",
       "40900          1\n",
       "40950          2\n",
       "40990          1\n",
       "40999          3\n",
       "41000          1\n",
       "41400          2\n",
       "41500          4\n",
       "41650          1\n",
       "41790          2\n",
       "41800          1\n",
       "41890          1\n",
       "41900          6\n",
       "41999          1\n",
       "42000          5\n",
       "42499          2\n",
       "42500          6\n",
       "42600          1\n",
       "42800          1\n",
       "42900          5\n",
       "42950          1\n",
       "42990          1\n",
       "42996          1\n",
       "42999          1\n",
       "43000          6\n",
       "43390          1\n",
       "43500          5\n",
       "43800          1\n",
       "43900          5\n",
       "43911          1\n",
       "43999          1\n",
       "44000          1\n",
       "44300          1\n",
       "44500          2\n",
       "44750          1\n",
       "44800          1\n",
       "44900          6\n",
       "45000          3\n",
       "45499          1\n",
       "45500          2\n",
       "45507          1\n",
       "45900          2\n",
       "46000          2\n",
       "46320          1\n",
       "46500          2\n",
       "46840          1\n",
       "46900          4\n",
       "46990          1\n",
       "46999          1\n",
       "47000          3\n",
       "47500          4\n",
       "47600          1\n",
       "47790          1\n",
       "47800          2\n",
       "47900          1\n",
       "47999          2\n",
       "48000          2\n",
       "48500          1\n",
       "48900          2\n",
       "48911          1\n",
       "48990          1\n",
       "48999          1\n",
       "49000          2\n",
       "49400          1\n",
       "49500          5\n",
       "49650          1\n",
       "49900          4\n",
       "49999          2\n",
       "50000          3\n",
       "50799          1\n",
       "50900          1\n",
       "51750          1\n",
       "51899          1\n",
       "51981          1\n",
       "52000          1\n",
       "52500          2\n",
       "52700          1\n",
       "52890          1\n",
       "52900          1\n",
       "52999          1\n",
       "53000          2\n",
       "54000          1\n",
       "54850          1\n",
       "54899          1\n",
       "54900          2\n",
       "55000          3\n",
       "55555          2\n",
       "55800          1\n",
       "55850          1\n",
       "55900          2\n",
       "55996          1\n",
       "55999          1\n",
       "56000          1\n",
       "56500          1\n",
       "56800          1\n",
       "56900          2\n",
       "57000          1\n",
       "57250          1\n",
       "57500          1\n",
       "57599          1\n",
       "57800          2\n",
       "57900          1\n",
       "57997          1\n",
       "58000          1\n",
       "58200          2\n",
       "58399          1\n",
       "58500          2\n",
       "58888          1\n",
       "58900          4\n",
       "59000          3\n",
       "59800          1\n",
       "59900          1\n",
       "59990          2\n",
       "59999          1\n",
       "60000          1\n",
       "61500          1\n",
       "61800          1\n",
       "61900          1\n",
       "61950          1\n",
       "61990          1\n",
       "62000          1\n",
       "62500          2\n",
       "62550          1\n",
       "62890          1\n",
       "62900          1\n",
       "63000          1\n",
       "63452          1\n",
       "63500          2\n",
       "63700          1\n",
       "63900          1\n",
       "64000          1\n",
       "64280          1\n",
       "64500          1\n",
       "64900          2\n",
       "64990          1\n",
       "64999          2\n",
       "65000          3\n",
       "65700          2\n",
       "65900          1\n",
       "66000          1\n",
       "66500          1\n",
       "66900          1\n",
       "66964          1\n",
       "67200          1\n",
       "67500          1\n",
       "67997          1\n",
       "67999          1\n",
       "68000          1\n",
       "68500          2\n",
       "68599          1\n",
       "69000          3\n",
       "69499          1\n",
       "69500          1\n",
       "69800          1\n",
       "69900          1\n",
       "69990          1\n",
       "69996          1\n",
       "69999          1\n",
       "70000          1\n",
       "70007          1\n",
       "70999          1\n",
       "72500          3\n",
       "72880          1\n",
       "72900          1\n",
       "73000          3\n",
       "74899          1\n",
       "74999          1\n",
       "75500          1\n",
       "75900          1\n",
       "76000          1\n",
       "78500          2\n",
       "78993          1\n",
       "79480          1\n",
       "79500          2\n",
       "79980          1\n",
       "80000          2\n",
       "81000          1\n",
       "82500          1\n",
       "82987          1\n",
       "83000          2\n",
       "84000          2\n",
       "84900          1\n",
       "84999          1\n",
       "85000          2\n",
       "87750          1\n",
       "87991          1\n",
       "88900          1\n",
       "89000          1\n",
       "92500          1\n",
       "95000          4\n",
       "95964          1\n",
       "98500          1\n",
       "99900          1\n",
       "99990          1\n",
       "99999          1\n",
       "103990         1\n",
       "103999         1\n",
       "104900         1\n",
       "105000         2\n",
       "107000         1\n",
       "108000         1\n",
       "109000         1\n",
       "115000         1\n",
       "115900         1\n",
       "116000         1\n",
       "120000         1\n",
       "120911         1\n",
       "122500         1\n",
       "123456         2\n",
       "125000         1\n",
       "129900         1\n",
       "130000         1\n",
       "134900         1\n",
       "138000         1\n",
       "139000         2\n",
       "149000         1\n",
       "155000         1\n",
       "155500         1\n",
       "163500         1\n",
       "163991         1\n",
       "165000         1\n",
       "169999         1\n",
       "171000         1\n",
       "175000         1\n",
       "179999         1\n",
       "189981         1\n",
       "205000         1\n",
       "214800         1\n",
       "225000         1\n",
       "230000         2\n",
       "239000         1\n",
       "249000         1\n",
       "250000         1\n",
       "257500         1\n",
       "260000         1\n",
       "270000         1\n",
       "300000         1\n",
       "370000         1\n",
       "395000         1\n",
       "485000         1\n",
       "487000         1\n",
       "619000         1\n",
       "700000         1\n",
       "999999         1\n",
       "1250000        1\n",
       "2795000        1\n",
       "9999999        1\n",
       "10010011       1\n",
       "12345678       1\n",
       "Name: price, dtype: int64"
      ]
     },
     "execution_count": 115,
     "metadata": {},
     "output_type": "execute_result"
    }
   ],
   "source": [
    "#Variable Price\n",
    "cars['price'].value_counts().sort_index()"
   ]
  },
  {
   "cell_type": "code",
   "execution_count": 116,
   "id": "7943da12",
   "metadata": {},
   "outputs": [
    {
     "name": "stderr",
     "output_type": "stream",
     "text": [
      "/opt/anaconda3/lib/python3.9/site-packages/seaborn/distributions.py:2619: FutureWarning: `distplot` is a deprecated function and will be removed in a future version. Please adapt your code to use either `displot` (a figure-level function with similar flexibility) or `histplot` (an axes-level function for histograms).\n",
      "  warnings.warn(msg, FutureWarning)\n"
     ]
    },
    {
     "data": {
      "text/plain": [
       "<AxesSubplot:xlabel='price', ylabel='Density'>"
      ]
     },
     "execution_count": 116,
     "metadata": {},
     "output_type": "execute_result"
    },
    {
     "data": {
      "image/png": "[encoded data removed]",
      "text/plain": [
       "<Figure size 640x480 with 1 Axes>"
      ]
     },
     "metadata": {},
     "output_type": "display_data"
    }
   ],
   "source": [
    "# Histogram\n",
    "sns.distplot(cars['price'])"
   ]
  },
  {
   "cell_type": "code",
   "execution_count": 117,
   "id": "afb895e0",
   "metadata": {},
   "outputs": [
    {
     "data": {
      "text/plain": [
       "count      49531.000\n",
       "mean        6567.220\n",
       "std        86222.378\n",
       "min            0.000\n",
       "25%         1150.000\n",
       "50%         2950.000\n",
       "75%         7100.000\n",
       "max     12345678.000\n",
       "Name: price, dtype: float64"
      ]
     },
     "execution_count": 117,
     "metadata": {},
     "output_type": "execute_result"
    }
   ],
   "source": [
    "cars['price'].describe()"
   ]
  },
  {
   "cell_type": "code",
   "execution_count": 118,
   "id": "76432669",
   "metadata": {},
   "outputs": [
    {
     "data": {
      "text/plain": [
       "<AxesSubplot:ylabel='price'>"
      ]
     },
     "execution_count": 118,
     "metadata": {},
     "output_type": "execute_result"
    },
    {
     "data": {
      "image/png": "[encoded data removed]",
      "text/plain": [
       "<Figure size 640x480 with 1 Axes>"
      ]
     },
     "metadata": {},
     "output_type": "display_data"
    }
   ],
   "source": [
    "sns.boxplot(y=cars['price'])"
   ]
  },
  {
   "cell_type": "code",
   "execution_count": 119,
   "id": "61356886",
   "metadata": {},
   "outputs": [
    {
     "data": {
      "text/plain": [
       "1748"
      ]
     },
     "execution_count": 119,
     "metadata": {},
     "output_type": "execute_result"
    }
   ],
   "source": [
    "sum(cars['price']>150000)\n",
    "sum(cars['price']<100)"
   ]
  },
  {
   "cell_type": "markdown",
   "id": "017ec063",
   "metadata": {},
   "source": [
    "- sum of cars with price greater than 150000= 34\n",
    "\n",
    "- sum of cars less than price 100= 1748\n",
    "\n",
    "- both can be ignored"
   ]
  },
  {
   "cell_type": "code",
   "execution_count": 120,
   "id": "3f5114f8",
   "metadata": {},
   "outputs": [
    {
     "name": "stderr",
     "output_type": "stream",
     "text": [
      "/opt/anaconda3/lib/python3.9/site-packages/seaborn/distributions.py:2619: FutureWarning: `distplot` is a deprecated function and will be removed in a future version. Please adapt your code to use either `displot` (a figure-level function with similar flexibility) or `histplot` (an axes-level function for histograms).\n",
      "  warnings.warn(msg, FutureWarning)\n"
     ]
    },
    {
     "data": {
      "text/plain": [
       "5565"
      ]
     },
     "execution_count": 120,
     "metadata": {},
     "output_type": "execute_result"
    },
    {
     "data": {
      "image/png": "[encoded data removed]",
      "text/plain": [
       "<Figure size 640x480 with 1 Axes>"
      ]
     },
     "metadata": {},
     "output_type": "display_data"
    }
   ],
   "source": [
    "# Varibale Power PS\n",
    "cars['powerPS'].value_counts().sort_index()\n",
    "sns.distplot(cars['powerPS'])\n",
    "cars['powerPS'].describe()\n",
    "sns.boxplot(y=cars['powerPS'])\n",
    "sns.regplot(x='powerPS',y='price',scatter=True, fit_reg= False, data=cars)\n",
    "sum(cars['powerPS']>500)\n",
    "sum(cars['powerPS']<10)\n",
    " \n",
    "\n"
   ]
  },
  {
   "cell_type": "markdown",
   "id": "eed433b1",
   "metadata": {},
   "source": [
    "- sum for less than 10= 5565\n",
    "\n",
    "- sum for 500 is = 115\n",
    "\n",
    "- workable range is 10=500"
   ]
  },
  {
   "cell_type": "code",
   "execution_count": 121,
   "id": "201a205f",
   "metadata": {},
   "outputs": [],
   "source": [
    "# Setting up working range of data\n",
    "cars= cars[\n",
    "    (cars.yearOfRegistration<=2018)\n",
    "    &(cars.yearOfRegistration>=1950)\n",
    "    &(cars.price<=150000)\n",
    "    &(cars.price>=100)\n",
    "    &(cars.powerPS>=10)\n",
    "    &(cars.powerPS<=500)\n",
    "]"
   ]
  },
  {
   "cell_type": "code",
   "execution_count": 122,
   "id": "c4389e06",
   "metadata": {},
   "outputs": [
    {
     "data": {
      "text/plain": [
       "(42772, 14)"
      ]
     },
     "execution_count": 122,
     "metadata": {},
     "output_type": "execute_result"
    }
   ],
   "source": [
    "cars.shape"
   ]
  },
  {
   "cell_type": "code",
   "execution_count": 123,
   "id": "07d8bc77",
   "metadata": {},
   "outputs": [],
   "source": [
    "# to find the age of car, divide month of registration by 12 and it to year of reigistration-2018\n",
    "cars['Age']= (2018-cars['yearOfRegistration']) + (cars['monthOfRegistration']/12)   "
   ]
  },
  {
   "cell_type": "code",
   "execution_count": 124,
   "id": "f7e05573",
   "metadata": {},
   "outputs": [],
   "source": [
    "# need to round off the values of age\n",
    "cars['Age']=round(cars['Age'],2)"
   ]
  },
  {
   "cell_type": "code",
   "execution_count": 125,
   "id": "1c686def",
   "metadata": {
    "scrolled": true
   },
   "outputs": [
    {
     "data": {
      "text/plain": [
       "count   42772.000\n",
       "mean       14.873\n",
       "std         7.093\n",
       "min         0.000\n",
       "25%        10.330\n",
       "50%        14.830\n",
       "75%        19.170\n",
       "max        67.750\n",
       "Name: Age, dtype: float64"
      ]
     },
     "execution_count": 125,
     "metadata": {},
     "output_type": "execute_result"
    }
   ],
   "source": [
    "cars['Age'].describe()"
   ]
  },
  {
   "cell_type": "code",
   "execution_count": 126,
   "id": "76d8369e",
   "metadata": {},
   "outputs": [],
   "source": [
    "# Dropping year and month of registration\n",
    "cars=cars.drop(columns=['yearOfRegistration','monthOfRegistration'], axis=1)"
   ]
  },
  {
   "cell_type": "code",
   "execution_count": 127,
   "id": "2571f7cf",
   "metadata": {},
   "outputs": [
    {
     "name": "stderr",
     "output_type": "stream",
     "text": [
      "/opt/anaconda3/lib/python3.9/site-packages/seaborn/distributions.py:2619: FutureWarning: `distplot` is a deprecated function and will be removed in a future version. Please adapt your code to use either `displot` (a figure-level function with similar flexibility) or `histplot` (an axes-level function for histograms).\n",
      "  warnings.warn(msg, FutureWarning)\n"
     ]
    },
    {
     "data": {
      "text/plain": [
       "<AxesSubplot:xlabel='Age', ylabel='Age'>"
      ]
     },
     "execution_count": 127,
     "metadata": {},
     "output_type": "execute_result"
    },
    {
     "data": {
      "image/png": "[encoded data removed]",
      "text/plain": [
       "<Figure size 640x480 with 1 Axes>"
      ]
     },
     "metadata": {},
     "output_type": "display_data"
    }
   ],
   "source": [
    "# visualizing age\n",
    "sns.distplot(cars['Age'])\n",
    "sns.boxplot(y=cars['Age'])"
   ]
  },
  {
   "cell_type": "code",
   "execution_count": 128,
   "id": "7e33949f",
   "metadata": {},
   "outputs": [
    {
     "name": "stderr",
     "output_type": "stream",
     "text": [
      "/opt/anaconda3/lib/python3.9/site-packages/seaborn/distributions.py:2619: FutureWarning: `distplot` is a deprecated function and will be removed in a future version. Please adapt your code to use either `displot` (a figure-level function with similar flexibility) or `histplot` (an axes-level function for histograms).\n",
      "  warnings.warn(msg, FutureWarning)\n"
     ]
    },
    {
     "data": {
      "text/plain": [
       "<AxesSubplot:xlabel='price', ylabel='price'>"
      ]
     },
     "execution_count": 128,
     "metadata": {},
     "output_type": "execute_result"
    },
    {
     "data": {
      "image/png": "[encoded data removed]",
      "text/plain": [
       "<Figure size 640x480 with 1 Axes>"
      ]
     },
     "metadata": {},
     "output_type": "display_data"
    }
   ],
   "source": [
    "# visualizing price\n",
    "sns.distplot(cars['price'])\n",
    "sns.boxplot(y=cars['price'])"
   ]
  },
  {
   "cell_type": "code",
   "execution_count": 129,
   "id": "d851052c",
   "metadata": {},
   "outputs": [
    {
     "name": "stderr",
     "output_type": "stream",
     "text": [
      "/opt/anaconda3/lib/python3.9/site-packages/seaborn/distributions.py:2619: FutureWarning: `distplot` is a deprecated function and will be removed in a future version. Please adapt your code to use either `displot` (a figure-level function with similar flexibility) or `histplot` (an axes-level function for histograms).\n",
      "  warnings.warn(msg, FutureWarning)\n"
     ]
    },
    {
     "data": {
      "text/plain": [
       "<AxesSubplot:xlabel='powerPS', ylabel='powerPS'>"
      ]
     },
     "execution_count": 129,
     "metadata": {},
     "output_type": "execute_result"
    },
    {
     "data": {
      "image/png": "[encoded data removed]",
      "text/plain": [
       "<Figure size 640x480 with 1 Axes>"
      ]
     },
     "metadata": {},
     "output_type": "display_data"
    }
   ],
   "source": [
    "# visualizing powerPS\n",
    "sns.distplot(cars['powerPS'])\n",
    "sns.boxplot(y=cars['powerPS'])\n"
   ]
  },
  {
   "cell_type": "code",
   "execution_count": 130,
   "id": "43ec07f9",
   "metadata": {},
   "outputs": [
    {
     "data": {
      "text/plain": [
       "<AxesSubplot:xlabel='Age', ylabel='price'>"
      ]
     },
     "execution_count": 130,
     "metadata": {},
     "output_type": "execute_result"
    },
    {
     "data": {
      "image/png": "[encoded data removed]",
      "text/plain": [
       "<Figure size 640x480 with 1 Axes>"
      ]
     },
     "metadata": {},
     "output_type": "display_data"
    }
   ],
   "source": [
    "# Visualizing parameters after naroowing down working range\n",
    "# Age vs price\n",
    "sns.regplot(x='Age',y='price',scatter=True,\n",
    "           fit_reg=False, data=cars)"
   ]
  },
  {
   "cell_type": "markdown",
   "id": "f8b1912c",
   "metadata": {},
   "source": [
    "- cars priced higher are newer\n",
    "\n",
    "- with increase in age, price decreases\n",
    "\n",
    "- however few cars are priced highers with increased age"
   ]
  },
  {
   "cell_type": "code",
   "execution_count": 131,
   "id": "fd3d1361",
   "metadata": {},
   "outputs": [
    {
     "data": {
      "text/plain": [
       "<AxesSubplot:xlabel='powerPS', ylabel='price'>"
      ]
     },
     "execution_count": 131,
     "metadata": {},
     "output_type": "execute_result"
    },
    {
     "data": {
      "image/png": "[encoded data removed]",
      "text/plain": [
       "<Figure size 640x480 with 1 Axes>"
      ]
     },
     "metadata": {},
     "output_type": "display_data"
    }
   ],
   "source": [
    "# powerPS vs price\n",
    "sns.regplot(x='powerPS',y='price',scatter=True,\n",
    "           fit_reg=False, data=cars)"
   ]
  },
  {
   "cell_type": "markdown",
   "id": "06d7a6eb",
   "metadata": {},
   "source": [
    "- increase in power increases price"
   ]
  },
  {
   "cell_type": "code",
   "execution_count": 132,
   "id": "0d606031",
   "metadata": {},
   "outputs": [
    {
     "data": {
      "text/plain": [
       "<AxesSubplot:xlabel='seller', ylabel='count'>"
      ]
     },
     "execution_count": 132,
     "metadata": {},
     "output_type": "execute_result"
    },
    {
     "data": {
      "image/png": "[encoded data removed]",
      "text/plain": [
       "<Figure size 640x480 with 1 Axes>"
      ]
     },
     "metadata": {},
     "output_type": "display_data"
    }
   ],
   "source": [
    "# variable Seller\n",
    "cars['seller'].value_counts()\n",
    "pd.crosstab(cars['seller'],columns='count', normalize=True)\n",
    "sns.countplot(x='seller', data=cars)"
   ]
  },
  {
   "cell_type": "markdown",
   "id": "942f5b96",
   "metadata": {},
   "source": [
    "- fewer cars have 'commercial' so this coulumns is insignificant"
   ]
  },
  {
   "cell_type": "code",
   "execution_count": 133,
   "id": "c0597922",
   "metadata": {
    "scrolled": true
   },
   "outputs": [
    {
     "data": {
      "text/plain": [
       "<AxesSubplot:xlabel='offerType', ylabel='count'>"
      ]
     },
     "execution_count": 133,
     "metadata": {},
     "output_type": "execute_result"
    },
    {
     "data": {
      "image/png": "[encoded data removed]",
      "text/plain": [
       "<Figure size 640x480 with 1 Axes>"
      ]
     },
     "metadata": {},
     "output_type": "display_data"
    }
   ],
   "source": [
    "#variable offer type\n",
    "cars['offerType'].value_counts()\n",
    "sns.countplot(x='offerType', data=cars)"
   ]
  },
  {
   "cell_type": "markdown",
   "id": "601cc0ef",
   "metadata": {},
   "source": [
    "- insignificant"
   ]
  },
  {
   "cell_type": "code",
   "execution_count": 134,
   "id": "5909f51c",
   "metadata": {},
   "outputs": [
    {
     "data": {
      "text/plain": [
       "<AxesSubplot:xlabel='abtest', ylabel='price'>"
      ]
     },
     "execution_count": 134,
     "metadata": {},
     "output_type": "execute_result"
    },
    {
     "data": {
      "image/png": "[encoded data removed]",
      "text/plain": [
       "<Figure size 640x480 with 1 Axes>"
      ]
     },
     "metadata": {},
     "output_type": "display_data"
    }
   ],
   "source": [
    "#variable abtest\n",
    "cars['abtest'].value_counts()\n",
    "sns.countplot(x='abtest',data=cars)\n",
    "pd.crosstab(cars['abtest'],columns='count',normalize=True)\n",
    "sns.boxplot(x='abtest',y='price',data=cars)\n"
   ]
  },
  {
   "cell_type": "markdown",
   "id": "8c534c9e",
   "metadata": {},
   "source": [
    "- Equally distributed\n",
    "\n",
    "- but after boxplot: seems same median , mean\n",
    "\n",
    "- for every price value there is almost 50-50 distribution\n",
    "\n",
    "- does not affect price- insgnificant"
   ]
  },
  {
   "cell_type": "code",
   "execution_count": 135,
   "id": "5e224ec3",
   "metadata": {
    "scrolled": true
   },
   "outputs": [
    {
     "data": {
      "text/plain": [
       "<AxesSubplot:xlabel='vehicleType', ylabel='price'>"
      ]
     },
     "execution_count": 135,
     "metadata": {},
     "output_type": "execute_result"
    },
    {
     "data": {
      "image/png": "[encoded data removed]",
      "text/plain": [
       "<Figure size 640x480 with 1 Axes>"
      ]
     },
     "metadata": {},
     "output_type": "display_data"
    }
   ],
   "source": [
    "#variable vehicleType\n",
    "cars['vehicleType'].value_counts()\n",
    "sns.countplot(x='vehicleType',data=cars)\n",
    "pd.crosstab(cars['vehicleType'],columns='count',normalize=True)\n",
    "sns.boxplot(x='vehicleType',y='price',data=cars)\n"
   ]
  },
  {
   "cell_type": "markdown",
   "id": "3d9aafa4",
   "metadata": {},
   "source": [
    "- 8 types of cars\n",
    "\n",
    "- it affects price"
   ]
  },
  {
   "cell_type": "code",
   "execution_count": 136,
   "id": "66c3d4c3",
   "metadata": {},
   "outputs": [
    {
     "data": {
      "text/plain": [
       "<AxesSubplot:xlabel='gearbox', ylabel='price'>"
      ]
     },
     "execution_count": 136,
     "metadata": {},
     "output_type": "execute_result"
    },
    {
     "data": {
      "image/png": "[encoded data removed]",
      "text/plain": [
       "<Figure size 640x480 with 1 Axes>"
      ]
     },
     "metadata": {},
     "output_type": "display_data"
    }
   ],
   "source": [
    "#variable gearbox\n",
    "cars['gearbox'].value_counts()\n",
    "sns.countplot(x='gearbox',data=cars)\n",
    "pd.crosstab(cars['gearbox'],columns='count',normalize=True)\n",
    "sns.boxplot(x='gearbox',y='price',data=cars)\n"
   ]
  },
  {
   "cell_type": "markdown",
   "id": "6aa42d55",
   "metadata": {},
   "source": [
    "- gearbox affects price"
   ]
  },
  {
   "cell_type": "code",
   "execution_count": 137,
   "id": "be30871a",
   "metadata": {},
   "outputs": [
    {
     "data": {
      "text/plain": [
       "<AxesSubplot:xlabel='model', ylabel='price'>"
      ]
     },
     "execution_count": 137,
     "metadata": {},
     "output_type": "execute_result"
    },
    {
     "data": {
      "image/png": "[encoded data removed]",
      "text/plain": [
       "<Figure size 640x480 with 1 Axes>"
      ]
     },
     "metadata": {},
     "output_type": "display_data"
    }
   ],
   "source": [
    "#variable model\n",
    "cars['model'].value_counts()\n",
    "sns.countplot(x='model',data=cars)\n",
    "pd.crosstab(cars['model'],columns='count',normalize=True)\n",
    "sns.boxplot(x='model',y='price',data=cars)\n"
   ]
  },
  {
   "cell_type": "markdown",
   "id": "a50560c9",
   "metadata": {},
   "source": [
    "- cars are distributed over many models\n",
    "\n",
    "- considered in modeliing"
   ]
  },
  {
   "cell_type": "code",
   "execution_count": 138,
   "id": "43f13232",
   "metadata": {},
   "outputs": [
    {
     "data": {
      "text/plain": [
       "<AxesSubplot:xlabel='kilometer', ylabel='price'>"
      ]
     },
     "execution_count": 138,
     "metadata": {},
     "output_type": "execute_result"
    },
    {
     "data": {
      "image/png": "[encoded data removed]",
      "text/plain": [
       "<Figure size 640x480 with 1 Axes>"
      ]
     },
     "metadata": {},
     "output_type": "display_data"
    }
   ],
   "source": [
    "#variable kilometer\n",
    "cars['kilometer'].value_counts()\n",
    "sns.countplot(x='kilometer',data=cars)\n",
    "pd.crosstab(cars['kilometer'],columns='count',normalize=True)\n",
    "sns.boxplot(x='kilometer',y='price',data=cars)\n"
   ]
  },
  {
   "cell_type": "markdown",
   "id": "070145e6",
   "metadata": {},
   "source": [
    "- considered in modelling"
   ]
  },
  {
   "cell_type": "code",
   "execution_count": 139,
   "id": "2eadbee9",
   "metadata": {},
   "outputs": [
    {
     "data": {
      "text/plain": [
       "<AxesSubplot:xlabel='fuelType', ylabel='price'>"
      ]
     },
     "execution_count": 139,
     "metadata": {},
     "output_type": "execute_result"
    },
    {
     "data": {
      "image/png": "[encoded data removed]",
      "text/plain": [
       "<Figure size 640x480 with 1 Axes>"
      ]
     },
     "metadata": {},
     "output_type": "display_data"
    }
   ],
   "source": [
    "#variable fuelType\n",
    "cars['fuelType'].value_counts()\n",
    "sns.countplot(x='fuelType',data=cars)\n",
    "pd.crosstab(cars['fuelType'],columns='count',normalize=True)\n",
    "sns.boxplot(x='fuelType',y='price',data=cars)\n"
   ]
  },
  {
   "cell_type": "markdown",
   "id": "d730fede",
   "metadata": {},
   "source": [
    "- fuelType affects price"
   ]
  },
  {
   "cell_type": "code",
   "execution_count": 140,
   "id": "74095fa9",
   "metadata": {},
   "outputs": [
    {
     "data": {
      "text/plain": [
       "<AxesSubplot:xlabel='brand', ylabel='price'>"
      ]
     },
     "execution_count": 140,
     "metadata": {},
     "output_type": "execute_result"
    },
    {
     "data": {
      "image/png": "[encoded data removed]",
      "text/plain": [
       "<Figure size 640x480 with 1 Axes>"
      ]
     },
     "metadata": {},
     "output_type": "display_data"
    }
   ],
   "source": [
    "#variable brand\n",
    "cars['brand'].value_counts()\n",
    "sns.countplot(x='brand',data=cars)\n",
    "pd.crosstab(cars['brand'],columns='count',normalize=True)\n",
    "sns.boxplot(x='brand',y='price',data=cars)\n"
   ]
  },
  {
   "cell_type": "markdown",
   "id": "d4aed44a",
   "metadata": {},
   "source": [
    "- cars are distributed over many brands\n",
    "- consideres for modelling"
   ]
  },
  {
   "cell_type": "code",
   "execution_count": 141,
   "id": "e88b08ca",
   "metadata": {
    "scrolled": true
   },
   "outputs": [
    {
     "data": {
      "text/plain": [
       "<AxesSubplot:xlabel='notRepairedDamage', ylabel='price'>"
      ]
     },
     "execution_count": 141,
     "metadata": {},
     "output_type": "execute_result"
    },
    {
     "data": {
      "image/png": "[encoded data removed]",
      "text/plain": [
       "<Figure size 640x480 with 1 Axes>"
      ]
     },
     "metadata": {},
     "output_type": "display_data"
    }
   ],
   "source": [
    "#variable notRepairedDamage\n",
    "cars['notRepairedDamage'].value_counts()\n",
    "sns.countplot(x='notRepairedDamage',data=cars)\n",
    "pd.crosstab(cars['notRepairedDamage'],columns='count',normalize=True)\n",
    "sns.boxplot(x='notRepairedDamage',y='price',data=cars)\n"
   ]
  },
  {
   "cell_type": "markdown",
   "id": "d975a50a",
   "metadata": {},
   "source": [
    "- cars that require the damages to be repaired fall under lower price ranges"
   ]
  },
  {
   "cell_type": "code",
   "execution_count": 142,
   "id": "c8f64dbc",
   "metadata": {},
   "outputs": [],
   "source": [
    "# removing insignificant variables\n",
    "col=['seller','offerType', 'abtest']\n",
    "cars=cars.drop(columns=col,axis=1)"
   ]
  },
  {
   "cell_type": "code",
   "execution_count": 143,
   "id": "68fe72fe",
   "metadata": {},
   "outputs": [],
   "source": [
    "cars_copy=cars.copy()"
   ]
  },
  {
   "cell_type": "code",
   "execution_count": 144,
   "id": "9e598ad7",
   "metadata": {},
   "outputs": [
    {
     "data": {
      "text/html": [
       "<div>\n",
       "<style scoped>\n",
       "    .dataframe tbody tr th:only-of-type {\n",
       "        vertical-align: middle;\n",
       "    }\n",
       "\n",
       "    .dataframe tbody tr th {\n",
       "        vertical-align: top;\n",
       "    }\n",
       "\n",
       "    .dataframe thead th {\n",
       "        text-align: right;\n",
       "    }\n",
       "</style>\n",
       "<table border=\"1\" class=\"dataframe\">\n",
       "  <thead>\n",
       "    <tr style=\"text-align: right;\">\n",
       "      <th></th>\n",
       "      <th>price</th>\n",
       "      <th>powerPS</th>\n",
       "      <th>kilometer</th>\n",
       "      <th>Age</th>\n",
       "    </tr>\n",
       "  </thead>\n",
       "  <tbody>\n",
       "    <tr>\n",
       "      <th>price</th>\n",
       "      <td>1.000</td>\n",
       "      <td>0.575</td>\n",
       "      <td>-0.440</td>\n",
       "      <td>-0.336</td>\n",
       "    </tr>\n",
       "    <tr>\n",
       "      <th>powerPS</th>\n",
       "      <td>0.575</td>\n",
       "      <td>1.000</td>\n",
       "      <td>-0.016</td>\n",
       "      <td>-0.151</td>\n",
       "    </tr>\n",
       "    <tr>\n",
       "      <th>kilometer</th>\n",
       "      <td>-0.440</td>\n",
       "      <td>-0.016</td>\n",
       "      <td>1.000</td>\n",
       "      <td>0.292</td>\n",
       "    </tr>\n",
       "    <tr>\n",
       "      <th>Age</th>\n",
       "      <td>-0.336</td>\n",
       "      <td>-0.151</td>\n",
       "      <td>0.292</td>\n",
       "      <td>1.000</td>\n",
       "    </tr>\n",
       "  </tbody>\n",
       "</table>\n",
       "</div>"
      ],
      "text/plain": [
       "           price  powerPS  kilometer    Age\n",
       "price      1.000    0.575     -0.440 -0.336\n",
       "powerPS    0.575    1.000     -0.016 -0.151\n",
       "kilometer -0.440   -0.016      1.000  0.292\n",
       "Age       -0.336   -0.151      0.292  1.000"
      ]
     },
     "execution_count": 144,
     "metadata": {},
     "output_type": "execute_result"
    }
   ],
   "source": [
    "# Correlation\n",
    "cars_select1=cars.select_dtypes(exclude=[object])\n",
    "correlation=cars_select1.corr()\n",
    "correlation"
   ]
  },
  {
   "cell_type": "code",
   "execution_count": 145,
   "id": "1109fb51",
   "metadata": {},
   "outputs": [],
   "source": [
    "# omitting values"
   ]
  },
  {
   "cell_type": "markdown",
   "id": "60c0f181",
   "metadata": {},
   "source": [
    "-we are going to build a Linear regression and random forest modelon two sets of data\n",
    "- data obtained by omitting rows with missing values\n",
    "- data obtained by imputing the missing values"
   ]
  },
  {
   "cell_type": "code",
   "execution_count": 146,
   "id": "99202602",
   "metadata": {},
   "outputs": [],
   "source": [
    "# Omitting Values\n",
    "cars_omit=cars.dropna(axis=0)"
   ]
  },
  {
   "cell_type": "code",
   "execution_count": 147,
   "id": "1fab51a9",
   "metadata": {},
   "outputs": [],
   "source": [
    "# converting categorical variables to dummy variables\n",
    "cars_omit=pd.get_dummies(cars_omit,drop_first=True)"
   ]
  },
  {
   "cell_type": "code",
   "execution_count": 148,
   "id": "54fab0ce",
   "metadata": {},
   "outputs": [],
   "source": [
    "# Importing Necessary Libraries\n",
    "from sklearn.model_selection import train_test_split\n",
    "from sklearn.linear_model import LinearRegression\n",
    "from sklearn.ensemble import RandomForestRegressor\n",
    "from sklearn.metrics import mean_squared_error"
   ]
  },
  {
   "cell_type": "code",
   "execution_count": 149,
   "id": "31b226cc",
   "metadata": {},
   "outputs": [],
   "source": [
    "# Model Building with omitted Data"
   ]
  },
  {
   "cell_type": "code",
   "execution_count": 150,
   "id": "4b5ab0d8",
   "metadata": {},
   "outputs": [],
   "source": [
    "# separating input and ouput features\n",
    "x1=cars_omit.drop(['price'],axis='columns',inplace=False)\n",
    "y1= cars_omit['price']"
   ]
  },
  {
   "cell_type": "code",
   "execution_count": 151,
   "id": "7ffbe1f5",
   "metadata": {
    "scrolled": true
   },
   "outputs": [
    {
     "data": {
      "text/plain": [
       "array([[<AxesSubplot:title={'center':'1. Before'}>,\n",
       "        <AxesSubplot:title={'center':'2. After'}>]], dtype=object)"
      ]
     },
     "execution_count": 151,
     "metadata": {},
     "output_type": "execute_result"
    },
    {
     "data": {
      "image/png": "[encoded data removed]",
      "text/plain": [
       "<Figure size 640x480 with 2 Axes>"
      ]
     },
     "metadata": {},
     "output_type": "display_data"
    }
   ],
   "source": [
    "# Plotting the variable price\n",
    "import pandas as pd\n",
    "prices=pd.DataFrame({\"1. Before\":y1, \"2. After\":np.log(y1)})\n",
    "prices.hist()"
   ]
  },
  {
   "cell_type": "markdown",
   "id": "6b68d167",
   "metadata": {},
   "source": [
    "- proper bell shaped curve as natural log values of y1"
   ]
  },
  {
   "cell_type": "code",
   "execution_count": 152,
   "id": "576326b4",
   "metadata": {},
   "outputs": [],
   "source": [
    "#transforming prices as a logrithmic values\n",
    "y1=np.log(y1)"
   ]
  },
  {
   "cell_type": "markdown",
   "id": "cbcbca01",
   "metadata": {},
   "source": [
    "-range of price is very skewed so we use log values of it"
   ]
  },
  {
   "cell_type": "code",
   "execution_count": 153,
   "id": "db26bed7",
   "metadata": {},
   "outputs": [
    {
     "data": {
      "text/plain": [
       "((23018, 300), (9866, 300), (23018,), (9866,))"
      ]
     },
     "execution_count": 153,
     "metadata": {},
     "output_type": "execute_result"
    }
   ],
   "source": [
    "#splitting data into test and train\n",
    "X_train,X_test,y_train,y_test= train_test_split(x1,y1,test_size=0.3, random_state=3)\n",
    "X_train.shape,X_test.shape,y_train.shape,y_test.shape"
   ]
  },
  {
   "cell_type": "code",
   "execution_count": 154,
   "id": "7c609d57",
   "metadata": {},
   "outputs": [],
   "source": [
    "# Baseline Model for Omitted data\n",
    "# we are making a base model by using test data mean values\n",
    "# this is to set a benchmark and to compare with our regression model"
   ]
  },
  {
   "cell_type": "code",
   "execution_count": 155,
   "id": "17baf361",
   "metadata": {},
   "outputs": [
    {
     "data": {
      "text/plain": [
       "8.249615787653337"
      ]
     },
     "execution_count": 155,
     "metadata": {},
     "output_type": "execute_result"
    }
   ],
   "source": [
    "# finding the mean for test data value\n",
    "base_pred=np.mean(y_test)\n",
    "base_pred"
   ]
  },
  {
   "cell_type": "code",
   "execution_count": 156,
   "id": "c561674a",
   "metadata": {},
   "outputs": [
    {
     "data": {
      "text/plain": [
       "array([8.24961579, 8.24961579, 8.24961579, ..., 8.24961579, 8.24961579,\n",
       "       8.24961579])"
      ]
     },
     "execution_count": 156,
     "metadata": {},
     "output_type": "execute_result"
    }
   ],
   "source": [
    "# repeating same value till length of test data\n",
    "base_pred=np.repeat(base_pred,len(y_test))\n",
    "base_pred"
   ]
  },
  {
   "cell_type": "code",
   "execution_count": 157,
   "id": "db8bb790",
   "metadata": {},
   "outputs": [
    {
     "data": {
      "text/plain": [
       "1.1274483657478247"
      ]
     },
     "execution_count": 157,
     "metadata": {},
     "output_type": "execute_result"
    }
   ],
   "source": [
    "# finding rmse\n",
    "import numpy as np\n",
    "from sklearn.metrics import mean_squared_error\n",
    "base_root_mean_square_error= np.sqrt(mean_squared_error (y_test,base_pred))\n",
    "base_root_mean_square_error"
   ]
  },
  {
   "cell_type": "markdown",
   "id": "02aaf218",
   "metadata": {},
   "source": [
    "- objective is , whichever model we build the RMSE value should be less than base RMSE"
   ]
  },
  {
   "cell_type": "code",
   "execution_count": 194,
   "id": "3c2869ed",
   "metadata": {},
   "outputs": [],
   "source": [
    "# Mean Absolute error\n",
    "from sklearn.metrics import mean_absolute_error"
   ]
  },
  {
   "cell_type": "code",
   "execution_count": 158,
   "id": "ec4c7ce2",
   "metadata": {},
   "outputs": [],
   "source": [
    "# Linear regression with omitted data\n"
   ]
  },
  {
   "cell_type": "code",
   "execution_count": 159,
   "id": "0e359a2e",
   "metadata": {},
   "outputs": [],
   "source": [
    "# Setting Intercept as true\n",
    "lgr=LinearRegression(fit_intercept=True)"
   ]
  },
  {
   "cell_type": "code",
   "execution_count": 160,
   "id": "cd708a28",
   "metadata": {},
   "outputs": [
    {
     "data": {
      "text/plain": [
       "LinearRegression()"
      ]
     },
     "execution_count": 160,
     "metadata": {},
     "output_type": "execute_result"
    }
   ],
   "source": [
    "lgr"
   ]
  },
  {
   "cell_type": "code",
   "execution_count": 161,
   "id": "0fd8dd52",
   "metadata": {},
   "outputs": [],
   "source": [
    "#Model\n",
    "model_lin1=lgr.fit(X_train,y_train)\n"
   ]
  },
  {
   "cell_type": "code",
   "execution_count": 162,
   "id": "724fa156",
   "metadata": {},
   "outputs": [],
   "source": [
    "# Prediction model on test set\n",
    "cars_predictions_lin1=lgr.predict(X_test)"
   ]
  },
  {
   "cell_type": "code",
   "execution_count": 163,
   "id": "cddaac5a",
   "metadata": {},
   "outputs": [
    {
     "data": {
      "text/plain": [
       "0.5455481266513853"
      ]
     },
     "execution_count": 163,
     "metadata": {},
     "output_type": "execute_result"
    }
   ],
   "source": [
    "# computing MSE and RMSE\n",
    "lin_mse1=mean_squared_error(y_test,cars_predictions_lin1)\n",
    "lin_rmse=np.sqrt(lin_mse1)\n",
    "lin_rmse"
   ]
  },
  {
   "cell_type": "markdown",
   "id": "9e9fea60",
   "metadata": {},
   "source": [
    "-less than base rmse"
   ]
  },
  {
   "cell_type": "code",
   "execution_count": 196,
   "id": "3dc0a451",
   "metadata": {},
   "outputs": [
    {
     "data": {
      "text/plain": [
       "0.3822197835630038"
      ]
     },
     "execution_count": 196,
     "metadata": {},
     "output_type": "execute_result"
    }
   ],
   "source": [
    "# mean absolute error\n",
    "mean_absolute_error(y_test,cars_predictions_lin1)"
   ]
  },
  {
   "cell_type": "code",
   "execution_count": 164,
   "id": "bce2a5ad",
   "metadata": {},
   "outputs": [
    {
     "data": {
      "text/plain": [
       "(0.7658615091649232, 0.7658615091649232)"
      ]
     },
     "execution_count": 164,
     "metadata": {},
     "output_type": "execute_result"
    }
   ],
   "source": [
    "# Rsquared value\n",
    "r2_lin_test1=model_lin1.score(X_test,y_test)\n",
    "r2_lin_train1=model_lin1.score(X_train,y_train)\n",
    "r2_lin_test1,r2_lin_test1"
   ]
  },
  {
   "cell_type": "markdown",
   "id": "7bc75597",
   "metadata": {},
   "source": [
    "- train is better than test, close cut, model is good. "
   ]
  },
  {
   "cell_type": "code",
   "execution_count": 165,
   "id": "28cbea7a",
   "metadata": {
    "scrolled": true
   },
   "outputs": [
    {
     "data": {
      "text/plain": [
       "count   9866.000\n",
       "mean       0.003\n",
       "std        0.546\n",
       "min       -5.796\n",
       "25%       -0.261\n",
       "50%        0.041\n",
       "75%        0.302\n",
       "max        4.547\n",
       "Name: price, dtype: float64"
      ]
     },
     "execution_count": 165,
     "metadata": {},
     "output_type": "execute_result"
    },
    {
     "data": {
      "image/png": "[encoded data removed]",
      "text/plain": [
       "<Figure size 640x480 with 1 Axes>"
      ]
     },
     "metadata": {},
     "output_type": "display_data"
    }
   ],
   "source": [
    "# regression diagnostic - residuals plot analysis\n",
    "# diff between test data and prediction\n",
    "residuals=y_test-cars_predictions_lin1\n",
    "sns.regplot(x=cars_predictions_lin1, y=residuals1,scatter=True,\n",
    "           fit_reg=False,data=cars)\n",
    "residuals.describe()"
   ]
  },
  {
   "cell_type": "markdown",
   "id": "99ff7c2a",
   "metadata": {},
   "source": [
    "-mean is too low, and plot is not skewed"
   ]
  },
  {
   "cell_type": "code",
   "execution_count": 166,
   "id": "ad0d7b5b",
   "metadata": {},
   "outputs": [],
   "source": [
    "# RANDOM FOREST WITH OMITTED DATA"
   ]
  },
  {
   "cell_type": "code",
   "execution_count": 167,
   "id": "c4a9c961",
   "metadata": {},
   "outputs": [],
   "source": [
    "# model parametes\n",
    "rf=RandomForestRegressor(n_estimators=100,max_features='auto',\n",
    "                        max_depth=100,min_samples_split=10,\n",
    "                        min_samples_leaf=4,random_state=1)"
   ]
  },
  {
   "cell_type": "code",
   "execution_count": 168,
   "id": "5c8e0d01",
   "metadata": {},
   "outputs": [],
   "source": [
    "#Model\n",
    "model1_rf1=rf.fit(X_train,y_train)"
   ]
  },
  {
   "cell_type": "code",
   "execution_count": 169,
   "id": "1efd61df",
   "metadata": {},
   "outputs": [],
   "source": [
    "# Predicting model on test set\n",
    "cars_predictions_rf1=rf.predict(X_test)"
   ]
  },
  {
   "cell_type": "code",
   "execution_count": 170,
   "id": "5b5c4582",
   "metadata": {},
   "outputs": [
    {
     "data": {
      "text/plain": [
       "(0.19016020985430382, 0.4360736289370223)"
      ]
     },
     "execution_count": 170,
     "metadata": {},
     "output_type": "execute_result"
    }
   ],
   "source": [
    "#Computing MSE and RMSE\n",
    "rf_mse1= mean_squared_error(y_test,cars_predictions_rf1)\n",
    "rf_rmse1=np.sqrt(rf_mse1)\n",
    "rf_mse1,rf_rmse1"
   ]
  },
  {
   "cell_type": "markdown",
   "id": "99f23fc5",
   "metadata": {},
   "source": [
    "- Random Forest perfroming better than Linear regression , as rmse has gone down more\n"
   ]
  },
  {
   "cell_type": "code",
   "execution_count": 197,
   "id": "339762bd",
   "metadata": {},
   "outputs": [
    {
     "data": {
      "text/plain": [
       "0.3009401766279117"
      ]
     },
     "execution_count": 197,
     "metadata": {},
     "output_type": "execute_result"
    }
   ],
   "source": [
    "# mean absolute error\n",
    "mean_absolute_error(y_test,cars_predictions_rf1)"
   ]
  },
  {
   "cell_type": "code",
   "execution_count": 171,
   "id": "42fa150d",
   "metadata": {},
   "outputs": [],
   "source": [
    " # MODEL BUILDING WITH IMPUTED DATA"
   ]
  },
  {
   "cell_type": "code",
   "execution_count": 172,
   "id": "eda61d4b",
   "metadata": {},
   "outputs": [],
   "source": [
    "cars_imputed=cars.apply(lambda x:x.fillna(x.median()) \n",
    "             if x.dtype=='float' else \n",
    "            x.fillna(x.value_counts().index[0]))"
   ]
  },
  {
   "cell_type": "code",
   "execution_count": 173,
   "id": "6cbeef8d",
   "metadata": {},
   "outputs": [
    {
     "data": {
      "text/plain": [
       "price                0\n",
       "vehicleType          0\n",
       "gearbox              0\n",
       "powerPS              0\n",
       "model                0\n",
       "kilometer            0\n",
       "fuelType             0\n",
       "brand                0\n",
       "notRepairedDamage    0\n",
       "Age                  0\n",
       "dtype: int64"
      ]
     },
     "execution_count": 173,
     "metadata": {},
     "output_type": "execute_result"
    }
   ],
   "source": [
    "cars_imputed.isnull().sum()"
   ]
  },
  {
   "cell_type": "code",
   "execution_count": 174,
   "id": "bc87be11",
   "metadata": {},
   "outputs": [],
   "source": [
    "# converting categorical variables to dummy variables\n",
    "cars_imputed=pd.get_dummies(cars_imputed,drop_first=True)"
   ]
  },
  {
   "cell_type": "code",
   "execution_count": 175,
   "id": "b002c2a5",
   "metadata": {},
   "outputs": [],
   "source": [
    "#separating inout and utput features\n",
    "x2= cars_imputed.drop(['price'],axis='columns', inplace =False)\n",
    "y2= cars_imputed['price']"
   ]
  },
  {
   "cell_type": "code",
   "execution_count": 176,
   "id": "e52d95bb",
   "metadata": {
    "scrolled": true
   },
   "outputs": [
    {
     "data": {
      "text/plain": [
       "array([[<AxesSubplot:title={'center':'1. Before'}>,\n",
       "        <AxesSubplot:title={'center':'2. After'}>]], dtype=object)"
      ]
     },
     "execution_count": 176,
     "metadata": {},
     "output_type": "execute_result"
    },
    {
     "data": {
      "image/png": "[encoded data removed]",
      "text/plain": [
       "<Figure size 640x480 with 2 Axes>"
      ]
     },
     "metadata": {},
     "output_type": "display_data"
    }
   ],
   "source": [
    "# plotting variables price\n",
    "prices=pd.DataFrame({\"1. Before\":y2,\"2. After\":np.log(y2)})\n",
    "prices.hist()"
   ]
  },
  {
   "cell_type": "code",
   "execution_count": 177,
   "id": "e394ac96",
   "metadata": {},
   "outputs": [],
   "source": [
    "# transforming prices as alogarithmic values\n",
    "y2= np.log(y2)"
   ]
  },
  {
   "cell_type": "code",
   "execution_count": 178,
   "id": "9c881e3d",
   "metadata": {},
   "outputs": [],
   "source": [
    "#splitting into test and train\n",
    "X_train1,X_test1,y_train1,y_test1=train_test_split(x2,y2, test_size=0.3,random_state=3)"
   ]
  },
  {
   "cell_type": "code",
   "execution_count": 179,
   "id": "1a73eb10",
   "metadata": {},
   "outputs": [],
   "source": [
    "#Baseline Model\n",
    "# we are making base line model by using test data mean values\n",
    "# to set a benchmark and to compare regression model"
   ]
  },
  {
   "cell_type": "code",
   "execution_count": 180,
   "id": "069e57c3",
   "metadata": {},
   "outputs": [
    {
     "data": {
      "text/plain": [
       "8.068391740519193"
      ]
     },
     "execution_count": 180,
     "metadata": {},
     "output_type": "execute_result"
    }
   ],
   "source": [
    "# finding mean for test data values\n",
    "base_pred=np.mean(y_test1)\n",
    "base_pred"
   ]
  },
  {
   "cell_type": "code",
   "execution_count": 181,
   "id": "789a153f",
   "metadata": {},
   "outputs": [
    {
     "data": {
      "text/plain": [
       "array([8.06839174, 8.06839174, 8.06839174, ..., 8.06839174, 8.06839174,\n",
       "       8.06839174])"
      ]
     },
     "execution_count": 181,
     "metadata": {},
     "output_type": "execute_result"
    }
   ],
   "source": [
    "#repeating same value till length of test data\n",
    "base_pred=np.repeat(base_pred,len(y_test1))\n",
    "base_pred"
   ]
  },
  {
   "cell_type": "code",
   "execution_count": 182,
   "id": "a0048e07",
   "metadata": {},
   "outputs": [
    {
     "data": {
      "text/plain": [
       "1.1884349112889792"
      ]
     },
     "execution_count": 182,
     "metadata": {},
     "output_type": "execute_result"
    }
   ],
   "source": [
    "# finding rmse of baseline model\n",
    "import numpy as np\n",
    "from sklearn.metrics import mean_squared_error\n",
    "base_root_mean_square_error_imputed=np.sqrt(mean_squared_error(y_test1,base_pred))\n",
    "base_root_mean_square_error_imputed"
   ]
  },
  {
   "cell_type": "code",
   "execution_count": 183,
   "id": "cace20f2",
   "metadata": {},
   "outputs": [],
   "source": [
    "# Linear regression with imputed data\n",
    "#Setting intercept as true\n",
    "lgr2=LinearRegression(fit_intercept=True)"
   ]
  },
  {
   "cell_type": "code",
   "execution_count": 184,
   "id": "060c195f",
   "metadata": {},
   "outputs": [],
   "source": [
    "# Model\n",
    "model_lin2=lgr2.fit(X_train1,y_train1)"
   ]
  },
  {
   "cell_type": "code",
   "execution_count": 185,
   "id": "8c6f10c4",
   "metadata": {},
   "outputs": [],
   "source": [
    "#Predicting model on test set\n",
    "cars_predictions_lin2=lgr2.predict(X_test1)"
   ]
  },
  {
   "cell_type": "code",
   "execution_count": 186,
   "id": "643b6e0f",
   "metadata": {},
   "outputs": [
    {
     "data": {
      "text/plain": [
       "(0.42041691235528117, 0.6483956449231296)"
      ]
     },
     "execution_count": 186,
     "metadata": {},
     "output_type": "execute_result"
    }
   ],
   "source": [
    "# computing MSE and Rmse\n",
    "lin_mse2=mean_squared_error(y_test1,cars_predictions_lin2)\n",
    "lin_rmse2= np.sqrt(lin_mse2)\n",
    "lin_mse2, lin_rmse2"
   ]
  },
  {
   "cell_type": "markdown",
   "id": "6ceaf7fa",
   "metadata": {},
   "source": [
    "rmse has gone up"
   ]
  },
  {
   "cell_type": "code",
   "execution_count": 198,
   "id": "6cacfe92",
   "metadata": {},
   "outputs": [
    {
     "data": {
      "text/plain": [
       "0.474928099705421"
      ]
     },
     "execution_count": 198,
     "metadata": {},
     "output_type": "execute_result"
    }
   ],
   "source": [
    "# mean absolute error\n",
    "mean_absolute_error(y_test1,cars_predictions_lin2)"
   ]
  },
  {
   "cell_type": "code",
   "execution_count": 187,
   "id": "d59a32dc",
   "metadata": {},
   "outputs": [],
   "source": [
    "#                              Random Forest with imputed data\n",
    "# model parametes\n",
    "rf2=RandomForestRegressor(n_estimators=100,max_features='auto',\n",
    "                        max_depth=100,min_samples_split=10,\n",
    "                        min_samples_leaf=4,random_state=1)"
   ]
  },
  {
   "cell_type": "code",
   "execution_count": 188,
   "id": "447d09fc",
   "metadata": {},
   "outputs": [],
   "source": [
    "# Model\n",
    "model_rf2=rf2.fit(X_train1,y_train1)"
   ]
  },
  {
   "cell_type": "code",
   "execution_count": 189,
   "id": "b443aace",
   "metadata": {},
   "outputs": [],
   "source": [
    "# predicting the model on test set\n",
    "cars_predictions_rf2= rf2.predict(X_test1)"
   ]
  },
  {
   "cell_type": "code",
   "execution_count": 190,
   "id": "51cca926",
   "metadata": {},
   "outputs": [
    {
     "data": {
      "text/plain": [
       "(0.2443463250684118, 0.494313994408829)"
      ]
     },
     "execution_count": 190,
     "metadata": {},
     "output_type": "execute_result"
    }
   ],
   "source": [
    "#computing MSE and RMSE\n",
    "rf_mse2=mean_squared_error(y_test1,cars_predictions_rf2)\n",
    "rf_rmse2=np.sqrt(rf_mse2)\n",
    "rf_mse2, rf_rmse2"
   ]
  },
  {
   "cell_type": "markdown",
   "id": "2c6bc187",
   "metadata": {},
   "source": [
    "-RMSE has gone below the Linear regression with Imputed data"
   ]
  },
  {
   "cell_type": "code",
   "execution_count": 191,
   "id": "9abd9fd7",
   "metadata": {},
   "outputs": [
    {
     "data": {
      "text/plain": [
       "(0.8269964521311131, 0.9024289431669166)"
      ]
     },
     "execution_count": 191,
     "metadata": {},
     "output_type": "execute_result"
    }
   ],
   "source": [
    "# R squared value\n",
    "r2_rf_test2=model_rf2.score(X_test1,y_test1)\n",
    "r2_rf_train2=model_rf2.score(X_train1, y_train1)\n",
    "r2_rf_test2, r2_rf_train2"
   ]
  },
  {
   "cell_type": "markdown",
   "id": "005675e4",
   "metadata": {},
   "source": [
    "- much better r squared value than Linear regression model with imputed data"
   ]
  },
  {
   "cell_type": "code",
   "execution_count": 199,
   "id": "7f49db6b",
   "metadata": {},
   "outputs": [
    {
     "data": {
      "text/plain": [
       "0.34304025186457965"
      ]
     },
     "execution_count": 199,
     "metadata": {},
     "output_type": "execute_result"
    }
   ],
   "source": [
    "# mean absolute error\n",
    "mean_absolute_error(y_test1,cars_predictions_rf2)"
   ]
  },
  {
   "cell_type": "markdown",
   "id": "ea0cfd7d",
   "metadata": {},
   "source": [
    "- In omitted set of data Random Forest is performing better than Linear Regression model\n",
    "\n",
    "\n",
    "- In imputed data set is Random Forest performing better than Linear Regression\n",
    "\n",
    "- Overall omitted data set with Random Forest model worked better\n",
    "\n",
    "- mean absolute error regression omitted data 0.3822197835630038\n",
    "- mean absolute error random forest with omiited data 0.3009401766279117\n",
    "- mean absolute error regression with imputed data 0.474928099705421\n",
    "- mean absolute error random forest with imputed data 0.34304025186457965\n"
   ]
  }
 ],
 "metadata": {
  "kernelspec": {
   "display_name": "Python 3 (ipykernel)",
   "language": "python",
   "name": "python3"
  },
  "language_info": {
   "codemirror_mode": {
    "name": "ipython",
    "version": 3
   },
   "file_extension": ".py",
   "mimetype": "text/x-python",
   "name": "python",
   "nbconvert_exporter": "python",
   "pygments_lexer": "ipython3",
   "version": "3.9.13"
  }
 },
 "nbformat": 4,
 "nbformat_minor": 5
}
